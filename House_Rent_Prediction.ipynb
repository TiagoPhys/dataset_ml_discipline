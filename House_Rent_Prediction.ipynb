{
  "nbformat": 4,
  "nbformat_minor": 0,
  "metadata": {
    "colab": {
      "provenance": [],
      "authorship_tag": "ABX9TyNSMgQYp8qyl12TPndQtQ6Y",
      "include_colab_link": true
    },
    "kernelspec": {
      "name": "python3",
      "display_name": "Python 3"
    },
    "language_info": {
      "name": "python"
    }
  },
  "cells": [
    {
      "cell_type": "markdown",
      "metadata": {
        "id": "view-in-github",
        "colab_type": "text"
      },
      "source": [
        "<a href=\"https://colab.research.google.com/github/TiagoPhys/dataset_ml_discipline/blob/main/House_Rent_Prediction.ipynb\" target=\"_parent\"><img src=\"https://colab.research.google.com/assets/colab-badge.svg\" alt=\"Open In Colab\"/></a>"
      ]
    },
    {
      "cell_type": "code",
      "execution_count": 1,
      "metadata": {
        "id": "felvLNz5Vb-5"
      },
      "outputs": [],
      "source": [
        "import pandas as pd\n",
        "import seaborn as srn\n",
        "import statistics as sts\n",
        "import matplotlib.pyplot as plt\n",
        "import plotly.express as px\n",
        "import numpy as np"
      ]
    },
    {
      "cell_type": "code",
      "source": [
        "pip install catboost"
      ],
      "metadata": {
        "colab": {
          "base_uri": "https://localhost:8080/"
        },
        "id": "JoESAosjmmop",
        "outputId": "18025f4b-b3eb-4448-d4b1-bced469b62fa"
      },
      "execution_count": 2,
      "outputs": [
        {
          "output_type": "stream",
          "name": "stdout",
          "text": [
            "Looking in indexes: https://pypi.org/simple, https://us-python.pkg.dev/colab-wheels/public/simple/\n",
            "Collecting catboost\n",
            "  Downloading catboost-1.1.1-cp38-none-manylinux1_x86_64.whl (76.6 MB)\n",
            "\u001b[K     |████████████████████████████████| 76.6 MB 34 kB/s \n",
            "\u001b[?25hRequirement already satisfied: graphviz in /usr/local/lib/python3.8/dist-packages (from catboost) (0.10.1)\n",
            "Requirement already satisfied: pandas>=0.24.0 in /usr/local/lib/python3.8/dist-packages (from catboost) (1.3.5)\n",
            "Requirement already satisfied: six in /usr/local/lib/python3.8/dist-packages (from catboost) (1.15.0)\n",
            "Requirement already satisfied: plotly in /usr/local/lib/python3.8/dist-packages (from catboost) (5.5.0)\n",
            "Requirement already satisfied: matplotlib in /usr/local/lib/python3.8/dist-packages (from catboost) (3.2.2)\n",
            "Requirement already satisfied: scipy in /usr/local/lib/python3.8/dist-packages (from catboost) (1.7.3)\n",
            "Requirement already satisfied: numpy>=1.16.0 in /usr/local/lib/python3.8/dist-packages (from catboost) (1.21.6)\n",
            "Requirement already satisfied: python-dateutil>=2.7.3 in /usr/local/lib/python3.8/dist-packages (from pandas>=0.24.0->catboost) (2.8.2)\n",
            "Requirement already satisfied: pytz>=2017.3 in /usr/local/lib/python3.8/dist-packages (from pandas>=0.24.0->catboost) (2022.6)\n",
            "Requirement already satisfied: kiwisolver>=1.0.1 in /usr/local/lib/python3.8/dist-packages (from matplotlib->catboost) (1.4.4)\n",
            "Requirement already satisfied: cycler>=0.10 in /usr/local/lib/python3.8/dist-packages (from matplotlib->catboost) (0.11.0)\n",
            "Requirement already satisfied: pyparsing!=2.0.4,!=2.1.2,!=2.1.6,>=2.0.1 in /usr/local/lib/python3.8/dist-packages (from matplotlib->catboost) (3.0.9)\n",
            "Requirement already satisfied: tenacity>=6.2.0 in /usr/local/lib/python3.8/dist-packages (from plotly->catboost) (8.1.0)\n",
            "Installing collected packages: catboost\n",
            "Successfully installed catboost-1.1.1\n"
          ]
        }
      ]
    },
    {
      "cell_type": "code",
      "source": [
        "from scipy.stats import probplot, boxcox\n",
        "from scipy.special import inv_boxcox\n",
        "import pylab\n",
        "\n",
        "from sklearn.preprocessing import StandardScaler\n",
        "from sklearn.model_selection import train_test_split, cross_val_score, KFold\n",
        "from sklearn.linear_model import Ridge, Lasso, BayesianRidge\n",
        "from sklearn.neighbors import KNeighborsRegressor\n",
        "from sklearn.ensemble import RandomForestRegressor, GradientBoostingRegressor\n",
        "from sklearn.svm import SVR\n",
        "from catboost import CatBoostRegressor\n",
        "from lightgbm import LGBMRegressor\n",
        "from xgboost import XGBRegressor\n",
        "\n",
        "from sklearn.metrics import mean_squared_error, r2_score\n",
        "\n",
        "import tensorflow as tf"
      ],
      "metadata": {
        "id": "L9WIMa80mLL5"
      },
      "execution_count": 3,
      "outputs": []
    },
    {
      "cell_type": "code",
      "source": [
        "dataset = pd.read_csv(\"House_Rent_Dataset.csv\")\n",
        "dataset.head()"
      ],
      "metadata": {
        "colab": {
          "base_uri": "https://localhost:8080/",
          "height": 354
        },
        "id": "Rz4d9naapdJU",
        "outputId": "d629e0f4-bbb2-4276-c23a-df6dd14430bf"
      },
      "execution_count": 4,
      "outputs": [
        {
          "output_type": "execute_result",
          "data": {
            "text/plain": [
              "    Posted On  BHK   Rent  Size            Floor    Area Type  \\\n",
              "0  2022-05-18    2  10000  1100  Ground out of 2   Super Area   \n",
              "1  2022-05-13    2  20000   800       1 out of 3   Super Area   \n",
              "2  2022-05-16    2  17000  1000       1 out of 3   Super Area   \n",
              "3  2022-07-04    2  10000   800       1 out of 2   Super Area   \n",
              "4  2022-05-09    2   7500   850       1 out of 2  Carpet Area   \n",
              "\n",
              "              Area Locality     City Furnishing Status  Tenant Preferred  \\\n",
              "0                    Bandel  Kolkata       Unfurnished  Bachelors/Family   \n",
              "1  Phool Bagan, Kankurgachi  Kolkata    Semi-Furnished  Bachelors/Family   \n",
              "2   Salt Lake City Sector 2  Kolkata    Semi-Furnished  Bachelors/Family   \n",
              "3               Dumdum Park  Kolkata       Unfurnished  Bachelors/Family   \n",
              "4             South Dum Dum  Kolkata       Unfurnished         Bachelors   \n",
              "\n",
              "   Bathroom Point of Contact  \n",
              "0         2    Contact Owner  \n",
              "1         1    Contact Owner  \n",
              "2         1    Contact Owner  \n",
              "3         1    Contact Owner  \n",
              "4         1    Contact Owner  "
            ],
            "text/html": [
              "\n",
              "  <div id=\"df-0e25a798-8c2b-4f4b-bb06-f6d2c58d235a\">\n",
              "    <div class=\"colab-df-container\">\n",
              "      <div>\n",
              "<style scoped>\n",
              "    .dataframe tbody tr th:only-of-type {\n",
              "        vertical-align: middle;\n",
              "    }\n",
              "\n",
              "    .dataframe tbody tr th {\n",
              "        vertical-align: top;\n",
              "    }\n",
              "\n",
              "    .dataframe thead th {\n",
              "        text-align: right;\n",
              "    }\n",
              "</style>\n",
              "<table border=\"1\" class=\"dataframe\">\n",
              "  <thead>\n",
              "    <tr style=\"text-align: right;\">\n",
              "      <th></th>\n",
              "      <th>Posted On</th>\n",
              "      <th>BHK</th>\n",
              "      <th>Rent</th>\n",
              "      <th>Size</th>\n",
              "      <th>Floor</th>\n",
              "      <th>Area Type</th>\n",
              "      <th>Area Locality</th>\n",
              "      <th>City</th>\n",
              "      <th>Furnishing Status</th>\n",
              "      <th>Tenant Preferred</th>\n",
              "      <th>Bathroom</th>\n",
              "      <th>Point of Contact</th>\n",
              "    </tr>\n",
              "  </thead>\n",
              "  <tbody>\n",
              "    <tr>\n",
              "      <th>0</th>\n",
              "      <td>2022-05-18</td>\n",
              "      <td>2</td>\n",
              "      <td>10000</td>\n",
              "      <td>1100</td>\n",
              "      <td>Ground out of 2</td>\n",
              "      <td>Super Area</td>\n",
              "      <td>Bandel</td>\n",
              "      <td>Kolkata</td>\n",
              "      <td>Unfurnished</td>\n",
              "      <td>Bachelors/Family</td>\n",
              "      <td>2</td>\n",
              "      <td>Contact Owner</td>\n",
              "    </tr>\n",
              "    <tr>\n",
              "      <th>1</th>\n",
              "      <td>2022-05-13</td>\n",
              "      <td>2</td>\n",
              "      <td>20000</td>\n",
              "      <td>800</td>\n",
              "      <td>1 out of 3</td>\n",
              "      <td>Super Area</td>\n",
              "      <td>Phool Bagan, Kankurgachi</td>\n",
              "      <td>Kolkata</td>\n",
              "      <td>Semi-Furnished</td>\n",
              "      <td>Bachelors/Family</td>\n",
              "      <td>1</td>\n",
              "      <td>Contact Owner</td>\n",
              "    </tr>\n",
              "    <tr>\n",
              "      <th>2</th>\n",
              "      <td>2022-05-16</td>\n",
              "      <td>2</td>\n",
              "      <td>17000</td>\n",
              "      <td>1000</td>\n",
              "      <td>1 out of 3</td>\n",
              "      <td>Super Area</td>\n",
              "      <td>Salt Lake City Sector 2</td>\n",
              "      <td>Kolkata</td>\n",
              "      <td>Semi-Furnished</td>\n",
              "      <td>Bachelors/Family</td>\n",
              "      <td>1</td>\n",
              "      <td>Contact Owner</td>\n",
              "    </tr>\n",
              "    <tr>\n",
              "      <th>3</th>\n",
              "      <td>2022-07-04</td>\n",
              "      <td>2</td>\n",
              "      <td>10000</td>\n",
              "      <td>800</td>\n",
              "      <td>1 out of 2</td>\n",
              "      <td>Super Area</td>\n",
              "      <td>Dumdum Park</td>\n",
              "      <td>Kolkata</td>\n",
              "      <td>Unfurnished</td>\n",
              "      <td>Bachelors/Family</td>\n",
              "      <td>1</td>\n",
              "      <td>Contact Owner</td>\n",
              "    </tr>\n",
              "    <tr>\n",
              "      <th>4</th>\n",
              "      <td>2022-05-09</td>\n",
              "      <td>2</td>\n",
              "      <td>7500</td>\n",
              "      <td>850</td>\n",
              "      <td>1 out of 2</td>\n",
              "      <td>Carpet Area</td>\n",
              "      <td>South Dum Dum</td>\n",
              "      <td>Kolkata</td>\n",
              "      <td>Unfurnished</td>\n",
              "      <td>Bachelors</td>\n",
              "      <td>1</td>\n",
              "      <td>Contact Owner</td>\n",
              "    </tr>\n",
              "  </tbody>\n",
              "</table>\n",
              "</div>\n",
              "      <button class=\"colab-df-convert\" onclick=\"convertToInteractive('df-0e25a798-8c2b-4f4b-bb06-f6d2c58d235a')\"\n",
              "              title=\"Convert this dataframe to an interactive table.\"\n",
              "              style=\"display:none;\">\n",
              "        \n",
              "  <svg xmlns=\"http://www.w3.org/2000/svg\" height=\"24px\"viewBox=\"0 0 24 24\"\n",
              "       width=\"24px\">\n",
              "    <path d=\"M0 0h24v24H0V0z\" fill=\"none\"/>\n",
              "    <path d=\"M18.56 5.44l.94 2.06.94-2.06 2.06-.94-2.06-.94-.94-2.06-.94 2.06-2.06.94zm-11 1L8.5 8.5l.94-2.06 2.06-.94-2.06-.94L8.5 2.5l-.94 2.06-2.06.94zm10 10l.94 2.06.94-2.06 2.06-.94-2.06-.94-.94-2.06-.94 2.06-2.06.94z\"/><path d=\"M17.41 7.96l-1.37-1.37c-.4-.4-.92-.59-1.43-.59-.52 0-1.04.2-1.43.59L10.3 9.45l-7.72 7.72c-.78.78-.78 2.05 0 2.83L4 21.41c.39.39.9.59 1.41.59.51 0 1.02-.2 1.41-.59l7.78-7.78 2.81-2.81c.8-.78.8-2.07 0-2.86zM5.41 20L4 18.59l7.72-7.72 1.47 1.35L5.41 20z\"/>\n",
              "  </svg>\n",
              "      </button>\n",
              "      \n",
              "  <style>\n",
              "    .colab-df-container {\n",
              "      display:flex;\n",
              "      flex-wrap:wrap;\n",
              "      gap: 12px;\n",
              "    }\n",
              "\n",
              "    .colab-df-convert {\n",
              "      background-color: #E8F0FE;\n",
              "      border: none;\n",
              "      border-radius: 50%;\n",
              "      cursor: pointer;\n",
              "      display: none;\n",
              "      fill: #1967D2;\n",
              "      height: 32px;\n",
              "      padding: 0 0 0 0;\n",
              "      width: 32px;\n",
              "    }\n",
              "\n",
              "    .colab-df-convert:hover {\n",
              "      background-color: #E2EBFA;\n",
              "      box-shadow: 0px 1px 2px rgba(60, 64, 67, 0.3), 0px 1px 3px 1px rgba(60, 64, 67, 0.15);\n",
              "      fill: #174EA6;\n",
              "    }\n",
              "\n",
              "    [theme=dark] .colab-df-convert {\n",
              "      background-color: #3B4455;\n",
              "      fill: #D2E3FC;\n",
              "    }\n",
              "\n",
              "    [theme=dark] .colab-df-convert:hover {\n",
              "      background-color: #434B5C;\n",
              "      box-shadow: 0px 1px 3px 1px rgba(0, 0, 0, 0.15);\n",
              "      filter: drop-shadow(0px 1px 2px rgba(0, 0, 0, 0.3));\n",
              "      fill: #FFFFFF;\n",
              "    }\n",
              "  </style>\n",
              "\n",
              "      <script>\n",
              "        const buttonEl =\n",
              "          document.querySelector('#df-0e25a798-8c2b-4f4b-bb06-f6d2c58d235a button.colab-df-convert');\n",
              "        buttonEl.style.display =\n",
              "          google.colab.kernel.accessAllowed ? 'block' : 'none';\n",
              "\n",
              "        async function convertToInteractive(key) {\n",
              "          const element = document.querySelector('#df-0e25a798-8c2b-4f4b-bb06-f6d2c58d235a');\n",
              "          const dataTable =\n",
              "            await google.colab.kernel.invokeFunction('convertToInteractive',\n",
              "                                                     [key], {});\n",
              "          if (!dataTable) return;\n",
              "\n",
              "          const docLinkHtml = 'Like what you see? Visit the ' +\n",
              "            '<a target=\"_blank\" href=https://colab.research.google.com/notebooks/data_table.ipynb>data table notebook</a>'\n",
              "            + ' to learn more about interactive tables.';\n",
              "          element.innerHTML = '';\n",
              "          dataTable['output_type'] = 'display_data';\n",
              "          await google.colab.output.renderOutput(dataTable, element);\n",
              "          const docLink = document.createElement('div');\n",
              "          docLink.innerHTML = docLinkHtml;\n",
              "          element.appendChild(docLink);\n",
              "        }\n",
              "      </script>\n",
              "    </div>\n",
              "  </div>\n",
              "  "
            ]
          },
          "metadata": {},
          "execution_count": 4
        }
      ]
    },
    {
      "cell_type": "code",
      "source": [
        "print(f'Number of rows in the dataset: {dataset.shape[0]}')\n",
        "print(f'Number of columns in the dataset: {dataset.shape[1]}')"
      ],
      "metadata": {
        "colab": {
          "base_uri": "https://localhost:8080/"
        },
        "id": "mhcYKkXbp3d3",
        "outputId": "16db94de-1d99-487a-f955-24d036b9c7cc"
      },
      "execution_count": null,
      "outputs": [
        {
          "output_type": "stream",
          "name": "stdout",
          "text": [
            "Number of rows in the dataset: 4746\n",
            "Number of columns in the dataset: 12\n"
          ]
        }
      ]
    },
    {
      "cell_type": "code",
      "source": [
        "dataset['Posted On'] = pd.to_datetime(dataset['Posted On'])"
      ],
      "metadata": {
        "id": "x4bvEL5TorCE"
      },
      "execution_count": null,
      "outputs": []
    },
    {
      "cell_type": "code",
      "source": [
        "dataset.describe()"
      ],
      "metadata": {
        "colab": {
          "base_uri": "https://localhost:8080/",
          "height": 300
        },
        "id": "h0Gun-lqo0KF",
        "outputId": "0337832f-afb9-415c-c293-1d54740023f0"
      },
      "execution_count": null,
      "outputs": [
        {
          "output_type": "execute_result",
          "data": {
            "text/plain": [
              "               BHK          Rent         Size     Bathroom\n",
              "count  4746.000000  4.746000e+03  4746.000000  4746.000000\n",
              "mean      2.083860  3.499345e+04   967.490729     1.965866\n",
              "std       0.832256  7.810641e+04   634.202328     0.884532\n",
              "min       1.000000  1.200000e+03    10.000000     1.000000\n",
              "25%       2.000000  1.000000e+04   550.000000     1.000000\n",
              "50%       2.000000  1.600000e+04   850.000000     2.000000\n",
              "75%       3.000000  3.300000e+04  1200.000000     2.000000\n",
              "max       6.000000  3.500000e+06  8000.000000    10.000000"
            ],
            "text/html": [
              "\n",
              "  <div id=\"df-b5485823-430e-43f9-b128-1d7f9b268765\">\n",
              "    <div class=\"colab-df-container\">\n",
              "      <div>\n",
              "<style scoped>\n",
              "    .dataframe tbody tr th:only-of-type {\n",
              "        vertical-align: middle;\n",
              "    }\n",
              "\n",
              "    .dataframe tbody tr th {\n",
              "        vertical-align: top;\n",
              "    }\n",
              "\n",
              "    .dataframe thead th {\n",
              "        text-align: right;\n",
              "    }\n",
              "</style>\n",
              "<table border=\"1\" class=\"dataframe\">\n",
              "  <thead>\n",
              "    <tr style=\"text-align: right;\">\n",
              "      <th></th>\n",
              "      <th>BHK</th>\n",
              "      <th>Rent</th>\n",
              "      <th>Size</th>\n",
              "      <th>Bathroom</th>\n",
              "    </tr>\n",
              "  </thead>\n",
              "  <tbody>\n",
              "    <tr>\n",
              "      <th>count</th>\n",
              "      <td>4746.000000</td>\n",
              "      <td>4.746000e+03</td>\n",
              "      <td>4746.000000</td>\n",
              "      <td>4746.000000</td>\n",
              "    </tr>\n",
              "    <tr>\n",
              "      <th>mean</th>\n",
              "      <td>2.083860</td>\n",
              "      <td>3.499345e+04</td>\n",
              "      <td>967.490729</td>\n",
              "      <td>1.965866</td>\n",
              "    </tr>\n",
              "    <tr>\n",
              "      <th>std</th>\n",
              "      <td>0.832256</td>\n",
              "      <td>7.810641e+04</td>\n",
              "      <td>634.202328</td>\n",
              "      <td>0.884532</td>\n",
              "    </tr>\n",
              "    <tr>\n",
              "      <th>min</th>\n",
              "      <td>1.000000</td>\n",
              "      <td>1.200000e+03</td>\n",
              "      <td>10.000000</td>\n",
              "      <td>1.000000</td>\n",
              "    </tr>\n",
              "    <tr>\n",
              "      <th>25%</th>\n",
              "      <td>2.000000</td>\n",
              "      <td>1.000000e+04</td>\n",
              "      <td>550.000000</td>\n",
              "      <td>1.000000</td>\n",
              "    </tr>\n",
              "    <tr>\n",
              "      <th>50%</th>\n",
              "      <td>2.000000</td>\n",
              "      <td>1.600000e+04</td>\n",
              "      <td>850.000000</td>\n",
              "      <td>2.000000</td>\n",
              "    </tr>\n",
              "    <tr>\n",
              "      <th>75%</th>\n",
              "      <td>3.000000</td>\n",
              "      <td>3.300000e+04</td>\n",
              "      <td>1200.000000</td>\n",
              "      <td>2.000000</td>\n",
              "    </tr>\n",
              "    <tr>\n",
              "      <th>max</th>\n",
              "      <td>6.000000</td>\n",
              "      <td>3.500000e+06</td>\n",
              "      <td>8000.000000</td>\n",
              "      <td>10.000000</td>\n",
              "    </tr>\n",
              "  </tbody>\n",
              "</table>\n",
              "</div>\n",
              "      <button class=\"colab-df-convert\" onclick=\"convertToInteractive('df-b5485823-430e-43f9-b128-1d7f9b268765')\"\n",
              "              title=\"Convert this dataframe to an interactive table.\"\n",
              "              style=\"display:none;\">\n",
              "        \n",
              "  <svg xmlns=\"http://www.w3.org/2000/svg\" height=\"24px\"viewBox=\"0 0 24 24\"\n",
              "       width=\"24px\">\n",
              "    <path d=\"M0 0h24v24H0V0z\" fill=\"none\"/>\n",
              "    <path d=\"M18.56 5.44l.94 2.06.94-2.06 2.06-.94-2.06-.94-.94-2.06-.94 2.06-2.06.94zm-11 1L8.5 8.5l.94-2.06 2.06-.94-2.06-.94L8.5 2.5l-.94 2.06-2.06.94zm10 10l.94 2.06.94-2.06 2.06-.94-2.06-.94-.94-2.06-.94 2.06-2.06.94z\"/><path d=\"M17.41 7.96l-1.37-1.37c-.4-.4-.92-.59-1.43-.59-.52 0-1.04.2-1.43.59L10.3 9.45l-7.72 7.72c-.78.78-.78 2.05 0 2.83L4 21.41c.39.39.9.59 1.41.59.51 0 1.02-.2 1.41-.59l7.78-7.78 2.81-2.81c.8-.78.8-2.07 0-2.86zM5.41 20L4 18.59l7.72-7.72 1.47 1.35L5.41 20z\"/>\n",
              "  </svg>\n",
              "      </button>\n",
              "      \n",
              "  <style>\n",
              "    .colab-df-container {\n",
              "      display:flex;\n",
              "      flex-wrap:wrap;\n",
              "      gap: 12px;\n",
              "    }\n",
              "\n",
              "    .colab-df-convert {\n",
              "      background-color: #E8F0FE;\n",
              "      border: none;\n",
              "      border-radius: 50%;\n",
              "      cursor: pointer;\n",
              "      display: none;\n",
              "      fill: #1967D2;\n",
              "      height: 32px;\n",
              "      padding: 0 0 0 0;\n",
              "      width: 32px;\n",
              "    }\n",
              "\n",
              "    .colab-df-convert:hover {\n",
              "      background-color: #E2EBFA;\n",
              "      box-shadow: 0px 1px 2px rgba(60, 64, 67, 0.3), 0px 1px 3px 1px rgba(60, 64, 67, 0.15);\n",
              "      fill: #174EA6;\n",
              "    }\n",
              "\n",
              "    [theme=dark] .colab-df-convert {\n",
              "      background-color: #3B4455;\n",
              "      fill: #D2E3FC;\n",
              "    }\n",
              "\n",
              "    [theme=dark] .colab-df-convert:hover {\n",
              "      background-color: #434B5C;\n",
              "      box-shadow: 0px 1px 3px 1px rgba(0, 0, 0, 0.15);\n",
              "      filter: drop-shadow(0px 1px 2px rgba(0, 0, 0, 0.3));\n",
              "      fill: #FFFFFF;\n",
              "    }\n",
              "  </style>\n",
              "\n",
              "      <script>\n",
              "        const buttonEl =\n",
              "          document.querySelector('#df-b5485823-430e-43f9-b128-1d7f9b268765 button.colab-df-convert');\n",
              "        buttonEl.style.display =\n",
              "          google.colab.kernel.accessAllowed ? 'block' : 'none';\n",
              "\n",
              "        async function convertToInteractive(key) {\n",
              "          const element = document.querySelector('#df-b5485823-430e-43f9-b128-1d7f9b268765');\n",
              "          const dataTable =\n",
              "            await google.colab.kernel.invokeFunction('convertToInteractive',\n",
              "                                                     [key], {});\n",
              "          if (!dataTable) return;\n",
              "\n",
              "          const docLinkHtml = 'Like what you see? Visit the ' +\n",
              "            '<a target=\"_blank\" href=https://colab.research.google.com/notebooks/data_table.ipynb>data table notebook</a>'\n",
              "            + ' to learn more about interactive tables.';\n",
              "          element.innerHTML = '';\n",
              "          dataTable['output_type'] = 'display_data';\n",
              "          await google.colab.output.renderOutput(dataTable, element);\n",
              "          const docLink = document.createElement('div');\n",
              "          docLink.innerHTML = docLinkHtml;\n",
              "          element.appendChild(docLink);\n",
              "        }\n",
              "      </script>\n",
              "    </div>\n",
              "  </div>\n",
              "  "
            ]
          },
          "metadata": {},
          "execution_count": 25
        }
      ]
    },
    {
      "cell_type": "markdown",
      "source": [
        "Here we note that the Mean Rent is greater than twice of Median Rent, so there are some outliers in this column"
      ],
      "metadata": {
        "id": "IwpWNMNWpQ2s"
      }
    },
    {
      "cell_type": "markdown",
      "source": [
        "**Checking for missing values**"
      ],
      "metadata": {
        "id": "p4Ueg5s6pMHt"
      }
    },
    {
      "cell_type": "code",
      "source": [
        "dataset.isna().sum()"
      ],
      "metadata": {
        "colab": {
          "base_uri": "https://localhost:8080/"
        },
        "id": "1KXTTVx4pIuP",
        "outputId": "5362eb99-71ec-4da8-9ed7-9bdd13ba9c70"
      },
      "execution_count": null,
      "outputs": [
        {
          "output_type": "execute_result",
          "data": {
            "text/plain": [
              "Posted On            0\n",
              "BHK                  0\n",
              "Rent                 0\n",
              "Size                 0\n",
              "Floor                0\n",
              "Area Type            0\n",
              "Area Locality        0\n",
              "City                 0\n",
              "Furnishing Status    0\n",
              "Tenant Preferred     0\n",
              "Bathroom             0\n",
              "Point of Contact     0\n",
              "dtype: int64"
            ]
          },
          "metadata": {},
          "execution_count": 9
        }
      ]
    },
    {
      "cell_type": "markdown",
      "source": [
        "**Checking the distribution of Rent**"
      ],
      "metadata": {
        "id": "rGYVUPf4q8GO"
      }
    },
    {
      "cell_type": "code",
      "source": [
        "srn.boxplot(dataset['Rent']).set_title('Rent')"
      ],
      "metadata": {
        "colab": {
          "base_uri": "https://localhost:8080/",
          "height": 370
        },
        "id": "v-4P7Ins7s2Y",
        "outputId": "6382991c-96a9-4b46-e1b9-0d7e3aa9ba79"
      },
      "execution_count": null,
      "outputs": [
        {
          "output_type": "stream",
          "name": "stderr",
          "text": [
            "/usr/local/lib/python3.7/dist-packages/seaborn/_decorators.py:43: FutureWarning: Pass the following variable as a keyword arg: x. From version 0.12, the only valid positional argument will be `data`, and passing other arguments without an explicit keyword will result in an error or misinterpretation.\n",
            "  FutureWarning\n"
          ]
        },
        {
          "output_type": "execute_result",
          "data": {
            "text/plain": [
              "Text(0.5, 1.0, 'Rent')"
            ]
          },
          "metadata": {},
          "execution_count": 10
        },
        {
          "output_type": "display_data",
          "data": {
            "text/plain": [
              "<Figure size 432x288 with 1 Axes>"
            ],
            "image/png": "[encoded data removed]"
          },
          "metadata": {
            "needs_background": "light"
          }
        }
      ]
    },
    {
      "cell_type": "code",
      "source": [
        "srn.distplot(dataset['Rent']).set_title('Rent')"
      ],
      "metadata": {
        "colab": {
          "base_uri": "https://localhost:8080/",
          "height": 370
        },
        "id": "T9k8Y52a8ISp",
        "outputId": "cb3084a5-c1e1-47eb-91f4-a3bcff7caa98"
      },
      "execution_count": null,
      "outputs": [
        {
          "output_type": "stream",
          "name": "stderr",
          "text": [
            "/usr/local/lib/python3.7/dist-packages/seaborn/distributions.py:2619: FutureWarning: `distplot` is a deprecated function and will be removed in a future version. Please adapt your code to use either `displot` (a figure-level function with similar flexibility) or `histplot` (an axes-level function for histograms).\n",
            "  warnings.warn(msg, FutureWarning)\n"
          ]
        },
        {
          "output_type": "execute_result",
          "data": {
            "text/plain": [
              "Text(0.5, 1.0, 'Rent')"
            ]
          },
          "metadata": {},
          "execution_count": 11
        },
        {
          "output_type": "display_data",
          "data": {
            "text/plain": [
              "<Figure size 432x288 with 1 Axes>"
            ],
            "image/png": "[encoded data removed]"
          },
          "metadata": {
            "needs_background": "light"
          }
        }
      ]
    },
    {
      "cell_type": "code",
      "source": [
        "desv = sts.stdev(dataset['Rent'])\n",
        "desv"
      ],
      "metadata": {
        "colab": {
          "base_uri": "https://localhost:8080/"
        },
        "id": "F_VWPE0TrrZU",
        "outputId": "e3b74b91-e2c5-4c9b-892e-c1c743ca4441"
      },
      "execution_count": null,
      "outputs": [
        {
          "output_type": "execute_result",
          "data": {
            "text/plain": [
              "78106.4129373483"
            ]
          },
          "metadata": {},
          "execution_count": 4
        }
      ]
    },
    {
      "cell_type": "code",
      "source": [
        "dataset.loc[dataset['Rent'] >= 2*desv]"
      ],
      "metadata": {
        "colab": {
          "base_uri": "https://localhost:8080/",
          "height": 693
        },
        "id": "BYMGP-JGtYXK",
        "outputId": "46cd238f-6788-46b6-a0fe-89a8d98e9197"
      },
      "execution_count": null,
      "outputs": [
        {
          "output_type": "execute_result",
          "data": {
            "text/plain": [
              "      Posted On  BHK    Rent  Size                    Floor    Area Type  \\\n",
              "104  2022-06-16    2  180000   950          Ground out of 1  Carpet Area   \n",
              "530  2022-06-20    2  160000   800             14 out of 14  Carpet Area   \n",
              "531  2022-07-07    4  300000  1600             43 out of 78  Carpet Area   \n",
              "542  2022-06-21    3  270000  1800               3 out of 7  Carpet Area   \n",
              "543  2022-07-04    5  400000  2308             17 out of 31  Carpet Area   \n",
              "...         ...  ...     ...   ...                      ...          ...   \n",
              "3879 2022-06-30    4  250000  4500          Ground out of 2  Carpet Area   \n",
              "3989 2022-07-02    5  300000  4050          Ground out of 5   Super Area   \n",
              "4185 2022-06-06    1  200000  8000          Ground out of 4   Super Area   \n",
              "4457 2022-07-06    4  400000  7000  Lower Basement out of 2  Carpet Area   \n",
              "4543 2022-06-11    4  200000  4761              1 out of 35  Carpet Area   \n",
              "\n",
              "                             Area Locality       City Furnishing Status  \\\n",
              "104                   Avenue S, Santoshpur    Kolkata       Unfurnished   \n",
              "530                    parivar safalya chs     Mumbai       Unfurnished   \n",
              "531                     Trump Tower, Worli     Mumbai    Semi-Furnished   \n",
              "542                            Bandra West     Mumbai    Semi-Furnished   \n",
              "543          Runwal Elegante, Andheri West     Mumbai         Furnished   \n",
              "...                                    ...        ...               ...   \n",
              "3879                         Jubilee Hills  Hyderabad    Semi-Furnished   \n",
              "3989          Bandlaguda Jagir,, Hyderabad  Hyderabad       Unfurnished   \n",
              "4185   Beeramguda, Ramachandra Puram, NH 9  Hyderabad       Unfurnished   \n",
              "4457                         Jubilee Hills  Hyderabad    Semi-Furnished   \n",
              "4543                       K P H B Phase 4  Hyderabad    Semi-Furnished   \n",
              "\n",
              "      Tenant Preferred  Bathroom Point of Contact  \n",
              "104   Bachelors/Family         2    Contact Owner  \n",
              "530   Bachelors/Family         2    Contact Owner  \n",
              "531   Bachelors/Family         5    Contact Agent  \n",
              "542   Bachelors/Family         4    Contact Agent  \n",
              "543             Family         5    Contact Agent  \n",
              "...                ...       ...              ...  \n",
              "3879            Family         4    Contact Agent  \n",
              "3989  Bachelors/Family         4    Contact Owner  \n",
              "4185  Bachelors/Family        10    Contact Owner  \n",
              "4457  Bachelors/Family         6    Contact Agent  \n",
              "4543         Bachelors         6    Contact Owner  \n",
              "\n",
              "[161 rows x 12 columns]"
            ],
            "text/html": [
              "\n",
              "  <div id=\"df-6bf89a1b-4fc0-44bc-b32d-e2c2f829b046\">\n",
              "    <div class=\"colab-df-container\">\n",
              "      <div>\n",
              "<style scoped>\n",
              "    .dataframe tbody tr th:only-of-type {\n",
              "        vertical-align: middle;\n",
              "    }\n",
              "\n",
              "    .dataframe tbody tr th {\n",
              "        vertical-align: top;\n",
              "    }\n",
              "\n",
              "    .dataframe thead th {\n",
              "        text-align: right;\n",
              "    }\n",
              "</style>\n",
              "<table border=\"1\" class=\"dataframe\">\n",
              "  <thead>\n",
              "    <tr style=\"text-align: right;\">\n",
              "      <th></th>\n",
              "      <th>Posted On</th>\n",
              "      <th>BHK</th>\n",
              "      <th>Rent</th>\n",
              "      <th>Size</th>\n",
              "      <th>Floor</th>\n",
              "      <th>Area Type</th>\n",
              "      <th>Area Locality</th>\n",
              "      <th>City</th>\n",
              "      <th>Furnishing Status</th>\n",
              "      <th>Tenant Preferred</th>\n",
              "      <th>Bathroom</th>\n",
              "      <th>Point of Contact</th>\n",
              "    </tr>\n",
              "  </thead>\n",
              "  <tbody>\n",
              "    <tr>\n",
              "      <th>104</th>\n",
              "      <td>2022-06-16</td>\n",
              "      <td>2</td>\n",
              "      <td>180000</td>\n",
              "      <td>950</td>\n",
              "      <td>Ground out of 1</td>\n",
              "      <td>Carpet Area</td>\n",
              "      <td>Avenue S, Santoshpur</td>\n",
              "      <td>Kolkata</td>\n",
              "      <td>Unfurnished</td>\n",
              "      <td>Bachelors/Family</td>\n",
              "      <td>2</td>\n",
              "      <td>Contact Owner</td>\n",
              "    </tr>\n",
              "    <tr>\n",
              "      <th>530</th>\n",
              "      <td>2022-06-20</td>\n",
              "      <td>2</td>\n",
              "      <td>160000</td>\n",
              "      <td>800</td>\n",
              "      <td>14 out of 14</td>\n",
              "      <td>Carpet Area</td>\n",
              "      <td>parivar safalya chs</td>\n",
              "      <td>Mumbai</td>\n",
              "      <td>Unfurnished</td>\n",
              "      <td>Bachelors/Family</td>\n",
              "      <td>2</td>\n",
              "      <td>Contact Owner</td>\n",
              "    </tr>\n",
              "    <tr>\n",
              "      <th>531</th>\n",
              "      <td>2022-07-07</td>\n",
              "      <td>4</td>\n",
              "      <td>300000</td>\n",
              "      <td>1600</td>\n",
              "      <td>43 out of 78</td>\n",
              "      <td>Carpet Area</td>\n",
              "      <td>Trump Tower, Worli</td>\n",
              "      <td>Mumbai</td>\n",
              "      <td>Semi-Furnished</td>\n",
              "      <td>Bachelors/Family</td>\n",
              "      <td>5</td>\n",
              "      <td>Contact Agent</td>\n",
              "    </tr>\n",
              "    <tr>\n",
              "      <th>542</th>\n",
              "      <td>2022-06-21</td>\n",
              "      <td>3</td>\n",
              "      <td>270000</td>\n",
              "      <td>1800</td>\n",
              "      <td>3 out of 7</td>\n",
              "      <td>Carpet Area</td>\n",
              "      <td>Bandra West</td>\n",
              "      <td>Mumbai</td>\n",
              "      <td>Semi-Furnished</td>\n",
              "      <td>Bachelors/Family</td>\n",
              "      <td>4</td>\n",
              "      <td>Contact Agent</td>\n",
              "    </tr>\n",
              "    <tr>\n",
              "      <th>543</th>\n",
              "      <td>2022-07-04</td>\n",
              "      <td>5</td>\n",
              "      <td>400000</td>\n",
              "      <td>2308</td>\n",
              "      <td>17 out of 31</td>\n",
              "      <td>Carpet Area</td>\n",
              "      <td>Runwal Elegante, Andheri West</td>\n",
              "      <td>Mumbai</td>\n",
              "      <td>Furnished</td>\n",
              "      <td>Family</td>\n",
              "      <td>5</td>\n",
              "      <td>Contact Agent</td>\n",
              "    </tr>\n",
              "    <tr>\n",
              "      <th>...</th>\n",
              "      <td>...</td>\n",
              "      <td>...</td>\n",
              "      <td>...</td>\n",
              "      <td>...</td>\n",
              "      <td>...</td>\n",
              "      <td>...</td>\n",
              "      <td>...</td>\n",
              "      <td>...</td>\n",
              "      <td>...</td>\n",
              "      <td>...</td>\n",
              "      <td>...</td>\n",
              "      <td>...</td>\n",
              "    </tr>\n",
              "    <tr>\n",
              "      <th>3879</th>\n",
              "      <td>2022-06-30</td>\n",
              "      <td>4</td>\n",
              "      <td>250000</td>\n",
              "      <td>4500</td>\n",
              "      <td>Ground out of 2</td>\n",
              "      <td>Carpet Area</td>\n",
              "      <td>Jubilee Hills</td>\n",
              "      <td>Hyderabad</td>\n",
              "      <td>Semi-Furnished</td>\n",
              "      <td>Family</td>\n",
              "      <td>4</td>\n",
              "      <td>Contact Agent</td>\n",
              "    </tr>\n",
              "    <tr>\n",
              "      <th>3989</th>\n",
              "      <td>2022-07-02</td>\n",
              "      <td>5</td>\n",
              "      <td>300000</td>\n",
              "      <td>4050</td>\n",
              "      <td>Ground out of 5</td>\n",
              "      <td>Super Area</td>\n",
              "      <td>Bandlaguda Jagir,, Hyderabad</td>\n",
              "      <td>Hyderabad</td>\n",
              "      <td>Unfurnished</td>\n",
              "      <td>Bachelors/Family</td>\n",
              "      <td>4</td>\n",
              "      <td>Contact Owner</td>\n",
              "    </tr>\n",
              "    <tr>\n",
              "      <th>4185</th>\n",
              "      <td>2022-06-06</td>\n",
              "      <td>1</td>\n",
              "      <td>200000</td>\n",
              "      <td>8000</td>\n",
              "      <td>Ground out of 4</td>\n",
              "      <td>Super Area</td>\n",
              "      <td>Beeramguda, Ramachandra Puram, NH 9</td>\n",
              "      <td>Hyderabad</td>\n",
              "      <td>Unfurnished</td>\n",
              "      <td>Bachelors/Family</td>\n",
              "      <td>10</td>\n",
              "      <td>Contact Owner</td>\n",
              "    </tr>\n",
              "    <tr>\n",
              "      <th>4457</th>\n",
              "      <td>2022-07-06</td>\n",
              "      <td>4</td>\n",
              "      <td>400000</td>\n",
              "      <td>7000</td>\n",
              "      <td>Lower Basement out of 2</td>\n",
              "      <td>Carpet Area</td>\n",
              "      <td>Jubilee Hills</td>\n",
              "      <td>Hyderabad</td>\n",
              "      <td>Semi-Furnished</td>\n",
              "      <td>Bachelors/Family</td>\n",
              "      <td>6</td>\n",
              "      <td>Contact Agent</td>\n",
              "    </tr>\n",
              "    <tr>\n",
              "      <th>4543</th>\n",
              "      <td>2022-06-11</td>\n",
              "      <td>4</td>\n",
              "      <td>200000</td>\n",
              "      <td>4761</td>\n",
              "      <td>1 out of 35</td>\n",
              "      <td>Carpet Area</td>\n",
              "      <td>K P H B Phase 4</td>\n",
              "      <td>Hyderabad</td>\n",
              "      <td>Semi-Furnished</td>\n",
              "      <td>Bachelors</td>\n",
              "      <td>6</td>\n",
              "      <td>Contact Owner</td>\n",
              "    </tr>\n",
              "  </tbody>\n",
              "</table>\n",
              "<p>161 rows × 12 columns</p>\n",
              "</div>\n",
              "      <button class=\"colab-df-convert\" onclick=\"convertToInteractive('df-6bf89a1b-4fc0-44bc-b32d-e2c2f829b046')\"\n",
              "              title=\"Convert this dataframe to an interactive table.\"\n",
              "              style=\"display:none;\">\n",
              "        \n",
              "  <svg xmlns=\"http://www.w3.org/2000/svg\" height=\"24px\"viewBox=\"0 0 24 24\"\n",
              "       width=\"24px\">\n",
              "    <path d=\"M0 0h24v24H0V0z\" fill=\"none\"/>\n",
              "    <path d=\"M18.56 5.44l.94 2.06.94-2.06 2.06-.94-2.06-.94-.94-2.06-.94 2.06-2.06.94zm-11 1L8.5 8.5l.94-2.06 2.06-.94-2.06-.94L8.5 2.5l-.94 2.06-2.06.94zm10 10l.94 2.06.94-2.06 2.06-.94-2.06-.94-.94-2.06-.94 2.06-2.06.94z\"/><path d=\"M17.41 7.96l-1.37-1.37c-.4-.4-.92-.59-1.43-.59-.52 0-1.04.2-1.43.59L10.3 9.45l-7.72 7.72c-.78.78-.78 2.05 0 2.83L4 21.41c.39.39.9.59 1.41.59.51 0 1.02-.2 1.41-.59l7.78-7.78 2.81-2.81c.8-.78.8-2.07 0-2.86zM5.41 20L4 18.59l7.72-7.72 1.47 1.35L5.41 20z\"/>\n",
              "  </svg>\n",
              "      </button>\n",
              "      \n",
              "  <style>\n",
              "    .colab-df-container {\n",
              "      display:flex;\n",
              "      flex-wrap:wrap;\n",
              "      gap: 12px;\n",
              "    }\n",
              "\n",
              "    .colab-df-convert {\n",
              "      background-color: #E8F0FE;\n",
              "      border: none;\n",
              "      border-radius: 50%;\n",
              "      cursor: pointer;\n",
              "      display: none;\n",
              "      fill: #1967D2;\n",
              "      height: 32px;\n",
              "      padding: 0 0 0 0;\n",
              "      width: 32px;\n",
              "    }\n",
              "\n",
              "    .colab-df-convert:hover {\n",
              "      background-color: #E2EBFA;\n",
              "      box-shadow: 0px 1px 2px rgba(60, 64, 67, 0.3), 0px 1px 3px 1px rgba(60, 64, 67, 0.15);\n",
              "      fill: #174EA6;\n",
              "    }\n",
              "\n",
              "    [theme=dark] .colab-df-convert {\n",
              "      background-color: #3B4455;\n",
              "      fill: #D2E3FC;\n",
              "    }\n",
              "\n",
              "    [theme=dark] .colab-df-convert:hover {\n",
              "      background-color: #434B5C;\n",
              "      box-shadow: 0px 1px 3px 1px rgba(0, 0, 0, 0.15);\n",
              "      filter: drop-shadow(0px 1px 2px rgba(0, 0, 0, 0.3));\n",
              "      fill: #FFFFFF;\n",
              "    }\n",
              "  </style>\n",
              "\n",
              "      <script>\n",
              "        const buttonEl =\n",
              "          document.querySelector('#df-6bf89a1b-4fc0-44bc-b32d-e2c2f829b046 button.colab-df-convert');\n",
              "        buttonEl.style.display =\n",
              "          google.colab.kernel.accessAllowed ? 'block' : 'none';\n",
              "\n",
              "        async function convertToInteractive(key) {\n",
              "          const element = document.querySelector('#df-6bf89a1b-4fc0-44bc-b32d-e2c2f829b046');\n",
              "          const dataTable =\n",
              "            await google.colab.kernel.invokeFunction('convertToInteractive',\n",
              "                                                     [key], {});\n",
              "          if (!dataTable) return;\n",
              "\n",
              "          const docLinkHtml = 'Like what you see? Visit the ' +\n",
              "            '<a target=\"_blank\" href=https://colab.research.google.com/notebooks/data_table.ipynb>data table notebook</a>'\n",
              "            + ' to learn more about interactive tables.';\n",
              "          element.innerHTML = '';\n",
              "          dataTable['output_type'] = 'display_data';\n",
              "          await google.colab.output.renderOutput(dataTable, element);\n",
              "          const docLink = document.createElement('div');\n",
              "          docLink.innerHTML = docLinkHtml;\n",
              "          element.appendChild(docLink);\n",
              "        }\n",
              "      </script>\n",
              "    </div>\n",
              "  </div>\n",
              "  "
            ]
          },
          "metadata": {},
          "execution_count": 27
        }
      ]
    },
    {
      "cell_type": "code",
      "source": [
        "mediana = sts.median(dataset['Rent'])\n",
        "mediana"
      ],
      "metadata": {
        "colab": {
          "base_uri": "https://localhost:8080/"
        },
        "id": "mqUJJFApuDy0",
        "outputId": "553c9247-8ba3-4d3f-b6db-8deb4c8f4794"
      },
      "execution_count": null,
      "outputs": [
        {
          "output_type": "execute_result",
          "data": {
            "text/plain": [
              "16000.0"
            ]
          },
          "metadata": {},
          "execution_count": 5
        }
      ]
    },
    {
      "cell_type": "markdown",
      "source": [
        "**Replacement of outliers by the median** "
      ],
      "metadata": {
        "id": "DP5ygPgCsG8X"
      }
    },
    {
      "cell_type": "code",
      "source": [
        "dataset.loc[dataset['Rent'] >= 2*desv, 'Rent'] = mediana"
      ],
      "metadata": {
        "id": "BgVMJQ6mupH3"
      },
      "execution_count": null,
      "outputs": []
    },
    {
      "cell_type": "code",
      "source": [
        "dataset.loc[dataset['Rent'] >= 2*desv]"
      ],
      "metadata": {
        "colab": {
          "base_uri": "https://localhost:8080/",
          "height": 93
        },
        "id": "GoMYlrPQvBuR",
        "outputId": "42cab8ba-b5a5-4bc6-fbae-def8b42f570e"
      },
      "execution_count": null,
      "outputs": [
        {
          "output_type": "execute_result",
          "data": {
            "text/plain": [
              "Empty DataFrame\n",
              "Columns: [Posted On, BHK, Rent, Size, Floor, Area Type, Area Locality, City, Furnishing Status, Tenant Preferred, Bathroom, Point of Contact]\n",
              "Index: []"
            ],
            "text/html": [
              "\n",
              "  <div id=\"df-acbe7a23-8d2b-4b11-a762-4b4257556491\">\n",
              "    <div class=\"colab-df-container\">\n",
              "      <div>\n",
              "<style scoped>\n",
              "    .dataframe tbody tr th:only-of-type {\n",
              "        vertical-align: middle;\n",
              "    }\n",
              "\n",
              "    .dataframe tbody tr th {\n",
              "        vertical-align: top;\n",
              "    }\n",
              "\n",
              "    .dataframe thead th {\n",
              "        text-align: right;\n",
              "    }\n",
              "</style>\n",
              "<table border=\"1\" class=\"dataframe\">\n",
              "  <thead>\n",
              "    <tr style=\"text-align: right;\">\n",
              "      <th></th>\n",
              "      <th>Posted On</th>\n",
              "      <th>BHK</th>\n",
              "      <th>Rent</th>\n",
              "      <th>Size</th>\n",
              "      <th>Floor</th>\n",
              "      <th>Area Type</th>\n",
              "      <th>Area Locality</th>\n",
              "      <th>City</th>\n",
              "      <th>Furnishing Status</th>\n",
              "      <th>Tenant Preferred</th>\n",
              "      <th>Bathroom</th>\n",
              "      <th>Point of Contact</th>\n",
              "    </tr>\n",
              "  </thead>\n",
              "  <tbody>\n",
              "  </tbody>\n",
              "</table>\n",
              "</div>\n",
              "      <button class=\"colab-df-convert\" onclick=\"convertToInteractive('df-acbe7a23-8d2b-4b11-a762-4b4257556491')\"\n",
              "              title=\"Convert this dataframe to an interactive table.\"\n",
              "              style=\"display:none;\">\n",
              "        \n",
              "  <svg xmlns=\"http://www.w3.org/2000/svg\" height=\"24px\"viewBox=\"0 0 24 24\"\n",
              "       width=\"24px\">\n",
              "    <path d=\"M0 0h24v24H0V0z\" fill=\"none\"/>\n",
              "    <path d=\"M18.56 5.44l.94 2.06.94-2.06 2.06-.94-2.06-.94-.94-2.06-.94 2.06-2.06.94zm-11 1L8.5 8.5l.94-2.06 2.06-.94-2.06-.94L8.5 2.5l-.94 2.06-2.06.94zm10 10l.94 2.06.94-2.06 2.06-.94-2.06-.94-.94-2.06-.94 2.06-2.06.94z\"/><path d=\"M17.41 7.96l-1.37-1.37c-.4-.4-.92-.59-1.43-.59-.52 0-1.04.2-1.43.59L10.3 9.45l-7.72 7.72c-.78.78-.78 2.05 0 2.83L4 21.41c.39.39.9.59 1.41.59.51 0 1.02-.2 1.41-.59l7.78-7.78 2.81-2.81c.8-.78.8-2.07 0-2.86zM5.41 20L4 18.59l7.72-7.72 1.47 1.35L5.41 20z\"/>\n",
              "  </svg>\n",
              "      </button>\n",
              "      \n",
              "  <style>\n",
              "    .colab-df-container {\n",
              "      display:flex;\n",
              "      flex-wrap:wrap;\n",
              "      gap: 12px;\n",
              "    }\n",
              "\n",
              "    .colab-df-convert {\n",
              "      background-color: #E8F0FE;\n",
              "      border: none;\n",
              "      border-radius: 50%;\n",
              "      cursor: pointer;\n",
              "      display: none;\n",
              "      fill: #1967D2;\n",
              "      height: 32px;\n",
              "      padding: 0 0 0 0;\n",
              "      width: 32px;\n",
              "    }\n",
              "\n",
              "    .colab-df-convert:hover {\n",
              "      background-color: #E2EBFA;\n",
              "      box-shadow: 0px 1px 2px rgba(60, 64, 67, 0.3), 0px 1px 3px 1px rgba(60, 64, 67, 0.15);\n",
              "      fill: #174EA6;\n",
              "    }\n",
              "\n",
              "    [theme=dark] .colab-df-convert {\n",
              "      background-color: #3B4455;\n",
              "      fill: #D2E3FC;\n",
              "    }\n",
              "\n",
              "    [theme=dark] .colab-df-convert:hover {\n",
              "      background-color: #434B5C;\n",
              "      box-shadow: 0px 1px 3px 1px rgba(0, 0, 0, 0.15);\n",
              "      filter: drop-shadow(0px 1px 2px rgba(0, 0, 0, 0.3));\n",
              "      fill: #FFFFFF;\n",
              "    }\n",
              "  </style>\n",
              "\n",
              "      <script>\n",
              "        const buttonEl =\n",
              "          document.querySelector('#df-acbe7a23-8d2b-4b11-a762-4b4257556491 button.colab-df-convert');\n",
              "        buttonEl.style.display =\n",
              "          google.colab.kernel.accessAllowed ? 'block' : 'none';\n",
              "\n",
              "        async function convertToInteractive(key) {\n",
              "          const element = document.querySelector('#df-acbe7a23-8d2b-4b11-a762-4b4257556491');\n",
              "          const dataTable =\n",
              "            await google.colab.kernel.invokeFunction('convertToInteractive',\n",
              "                                                     [key], {});\n",
              "          if (!dataTable) return;\n",
              "\n",
              "          const docLinkHtml = 'Like what you see? Visit the ' +\n",
              "            '<a target=\"_blank\" href=https://colab.research.google.com/notebooks/data_table.ipynb>data table notebook</a>'\n",
              "            + ' to learn more about interactive tables.';\n",
              "          element.innerHTML = '';\n",
              "          dataTable['output_type'] = 'display_data';\n",
              "          await google.colab.output.renderOutput(dataTable, element);\n",
              "          const docLink = document.createElement('div');\n",
              "          docLink.innerHTML = docLinkHtml;\n",
              "          element.appendChild(docLink);\n",
              "        }\n",
              "      </script>\n",
              "    </div>\n",
              "  </div>\n",
              "  "
            ]
          },
          "metadata": {},
          "execution_count": 7
        }
      ]
    },
    {
      "cell_type": "markdown",
      "source": [
        "**Rechecking the Rent distribution after eliminating outliers**"
      ],
      "metadata": {
        "id": "f98zJ6MHs8SQ"
      }
    },
    {
      "cell_type": "code",
      "source": [
        "srn.boxplot(dataset['Rent']).set_title('Rent')"
      ],
      "metadata": {
        "colab": {
          "base_uri": "https://localhost:8080/",
          "height": 370
        },
        "id": "YJTSuNihsz6y",
        "outputId": "b9002656-a2ef-43ea-d3e4-fc9da5f5e3db"
      },
      "execution_count": null,
      "outputs": [
        {
          "output_type": "stream",
          "name": "stderr",
          "text": [
            "/usr/local/lib/python3.7/dist-packages/seaborn/_decorators.py:43: FutureWarning: Pass the following variable as a keyword arg: x. From version 0.12, the only valid positional argument will be `data`, and passing other arguments without an explicit keyword will result in an error or misinterpretation.\n",
            "  FutureWarning\n"
          ]
        },
        {
          "output_type": "execute_result",
          "data": {
            "text/plain": [
              "Text(0.5, 1.0, 'Rent')"
            ]
          },
          "metadata": {},
          "execution_count": 17
        },
        {
          "output_type": "display_data",
          "data": {
            "text/plain": [
              "<Figure size 432x288 with 1 Axes>"
            ],
            "image/png": "[encoded data removed]"
          },
          "metadata": {
            "needs_background": "light"
          }
        }
      ]
    },
    {
      "cell_type": "code",
      "source": [
        "srn.distplot(dataset['Rent']).set_title('Rent')"
      ],
      "metadata": {
        "colab": {
          "base_uri": "https://localhost:8080/",
          "height": 370
        },
        "id": "_KwaELuIs1P9",
        "outputId": "8a4bd3c1-9e76-4582-d33a-48b5ea66f5c6"
      },
      "execution_count": null,
      "outputs": [
        {
          "output_type": "stream",
          "name": "stderr",
          "text": [
            "/usr/local/lib/python3.7/dist-packages/seaborn/distributions.py:2619: FutureWarning: `distplot` is a deprecated function and will be removed in a future version. Please adapt your code to use either `displot` (a figure-level function with similar flexibility) or `histplot` (an axes-level function for histograms).\n",
            "  warnings.warn(msg, FutureWarning)\n"
          ]
        },
        {
          "output_type": "execute_result",
          "data": {
            "text/plain": [
              "Text(0.5, 1.0, 'Rent')"
            ]
          },
          "metadata": {},
          "execution_count": 18
        },
        {
          "output_type": "display_data",
          "data": {
            "text/plain": [
              "<Figure size 432x288 with 1 Axes>"
            ],
            "image/png": "[encoded data removed]"
          },
          "metadata": {
            "needs_background": "light"
          }
        }
      ]
    },
    {
      "cell_type": "markdown",
      "source": [
        "**Checking the distribution of Size**"
      ],
      "metadata": {
        "id": "tTb07FV1uAZv"
      }
    },
    {
      "cell_type": "code",
      "source": [
        "srn.boxplot(dataset['Size']).set_title('Size')"
      ],
      "metadata": {
        "colab": {
          "base_uri": "https://localhost:8080/",
          "height": 370
        },
        "id": "q5YP3rxIuMn6",
        "outputId": "12726d89-682c-4abc-cfd5-2adac173ad7f"
      },
      "execution_count": null,
      "outputs": [
        {
          "output_type": "stream",
          "name": "stderr",
          "text": [
            "/usr/local/lib/python3.7/dist-packages/seaborn/_decorators.py:43: FutureWarning: Pass the following variable as a keyword arg: x. From version 0.12, the only valid positional argument will be `data`, and passing other arguments without an explicit keyword will result in an error or misinterpretation.\n",
            "  FutureWarning\n"
          ]
        },
        {
          "output_type": "execute_result",
          "data": {
            "text/plain": [
              "Text(0.5, 1.0, 'Size')"
            ]
          },
          "metadata": {},
          "execution_count": 19
        },
        {
          "output_type": "display_data",
          "data": {
            "text/plain": [
              "<Figure size 432x288 with 1 Axes>"
            ],
            "image/png": "[encoded data removed]"
          },
          "metadata": {
            "needs_background": "light"
          }
        }
      ]
    },
    {
      "cell_type": "code",
      "source": [
        "srn.distplot(dataset['Size']).set_title('Size')"
      ],
      "metadata": {
        "colab": {
          "base_uri": "https://localhost:8080/",
          "height": 370
        },
        "id": "OGA-thYiuQRV",
        "outputId": "28ef4c61-6b94-47fa-88cf-2be57b956243"
      },
      "execution_count": null,
      "outputs": [
        {
          "output_type": "stream",
          "name": "stderr",
          "text": [
            "/usr/local/lib/python3.7/dist-packages/seaborn/distributions.py:2619: FutureWarning: `distplot` is a deprecated function and will be removed in a future version. Please adapt your code to use either `displot` (a figure-level function with similar flexibility) or `histplot` (an axes-level function for histograms).\n",
            "  warnings.warn(msg, FutureWarning)\n"
          ]
        },
        {
          "output_type": "execute_result",
          "data": {
            "text/plain": [
              "Text(0.5, 1.0, 'Size')"
            ]
          },
          "metadata": {},
          "execution_count": 21
        },
        {
          "output_type": "display_data",
          "data": {
            "text/plain": [
              "<Figure size 432x288 with 1 Axes>"
            ],
            "image/png": "[encoded data removed]"
          },
          "metadata": {
            "needs_background": "light"
          }
        }
      ]
    },
    {
      "cell_type": "code",
      "source": [
        "desv = sts.stdev(dataset['Size'])\n",
        "desv"
      ],
      "metadata": {
        "colab": {
          "base_uri": "https://localhost:8080/"
        },
        "id": "xHgW6DG5JKvi",
        "outputId": "eeabc48f-4821-41e8-aa9d-b2ac82b42c93"
      },
      "execution_count": null,
      "outputs": [
        {
          "output_type": "execute_result",
          "data": {
            "text/plain": [
              "634.2023275120672"
            ]
          },
          "metadata": {},
          "execution_count": 8
        }
      ]
    },
    {
      "cell_type": "code",
      "source": [
        "dataset.loc[dataset['Size'] >= 2*desv]"
      ],
      "metadata": {
        "colab": {
          "base_uri": "https://localhost:8080/",
          "height": 659
        },
        "id": "JdAqr15KJqP1",
        "outputId": "9e1b082a-3beb-4bee-d740-f4ff54d74e9c"
      },
      "execution_count": null,
      "outputs": [
        {
          "output_type": "execute_result",
          "data": {
            "text/plain": [
              "      Posted On  BHK   Rent  Size                    Floor    Area Type  \\\n",
              "15   2022-06-01    3  40000  1286               1 out of 1  Carpet Area   \n",
              "18   2022-06-09    2  11000  2000          Ground out of 3  Carpet Area   \n",
              "23   2022-06-15    3   6500  1600          Ground out of 2   Super Area   \n",
              "41   2022-05-12    3  12000  1500          Ground out of 2  Carpet Area   \n",
              "45   2022-06-06    2  10000  1300          Ground out of 1   Super Area   \n",
              "...         ...  ...    ...   ...                      ...          ...   \n",
              "4737 2022-07-07    3  15000  1500  Lower Basement out of 2   Super Area   \n",
              "4740 2022-06-02    2  12000  1350               2 out of 2   Super Area   \n",
              "4742 2022-05-15    3  29000  2000               1 out of 4   Super Area   \n",
              "4743 2022-07-10    3  35000  1750               3 out of 5  Carpet Area   \n",
              "4744 2022-07-06    3  45000  1500             23 out of 34  Carpet Area   \n",
              "\n",
              "               Area Locality       City Furnishing Status  Tenant Preferred  \\\n",
              "15    New Town Action Area 1    Kolkata         Furnished  Bachelors/Family   \n",
              "18          Behala Chowrasta    Kolkata       Unfurnished  Bachelors/Family   \n",
              "23                      Joka    Kolkata       Unfurnished  Bachelors/Family   \n",
              "41                Bhadrakali    Kolkata         Furnished         Bachelors   \n",
              "45                 Kalikapur    Kolkata    Semi-Furnished            Family   \n",
              "...                      ...        ...               ...               ...   \n",
              "4737               Almasguda  Hyderabad    Semi-Furnished  Bachelors/Family   \n",
              "4740               Old Alwal  Hyderabad       Unfurnished  Bachelors/Family   \n",
              "4742    Manikonda, Hyderabad  Hyderabad    Semi-Furnished  Bachelors/Family   \n",
              "4743    Himayath Nagar, NH 7  Hyderabad    Semi-Furnished  Bachelors/Family   \n",
              "4744              Gachibowli  Hyderabad    Semi-Furnished            Family   \n",
              "\n",
              "      Bathroom Point of Contact  \n",
              "15           2    Contact Owner  \n",
              "18           1    Contact Owner  \n",
              "23           1    Contact Owner  \n",
              "41           2    Contact Owner  \n",
              "45           2    Contact Owner  \n",
              "...        ...              ...  \n",
              "4737         3    Contact Owner  \n",
              "4740         2    Contact Owner  \n",
              "4742         3    Contact Owner  \n",
              "4743         3    Contact Agent  \n",
              "4744         2    Contact Agent  \n",
              "\n",
              "[1010 rows x 12 columns]"
            ],
            "text/html": [
              "\n",
              "  <div id=\"df-c43aaf07-0f11-4900-82b9-dd11f7f7287b\">\n",
              "    <div class=\"colab-df-container\">\n",
              "      <div>\n",
              "<style scoped>\n",
              "    .dataframe tbody tr th:only-of-type {\n",
              "        vertical-align: middle;\n",
              "    }\n",
              "\n",
              "    .dataframe tbody tr th {\n",
              "        vertical-align: top;\n",
              "    }\n",
              "\n",
              "    .dataframe thead th {\n",
              "        text-align: right;\n",
              "    }\n",
              "</style>\n",
              "<table border=\"1\" class=\"dataframe\">\n",
              "  <thead>\n",
              "    <tr style=\"text-align: right;\">\n",
              "      <th></th>\n",
              "      <th>Posted On</th>\n",
              "      <th>BHK</th>\n",
              "      <th>Rent</th>\n",
              "      <th>Size</th>\n",
              "      <th>Floor</th>\n",
              "      <th>Area Type</th>\n",
              "      <th>Area Locality</th>\n",
              "      <th>City</th>\n",
              "      <th>Furnishing Status</th>\n",
              "      <th>Tenant Preferred</th>\n",
              "      <th>Bathroom</th>\n",
              "      <th>Point of Contact</th>\n",
              "    </tr>\n",
              "  </thead>\n",
              "  <tbody>\n",
              "    <tr>\n",
              "      <th>15</th>\n",
              "      <td>2022-06-01</td>\n",
              "      <td>3</td>\n",
              "      <td>40000</td>\n",
              "      <td>1286</td>\n",
              "      <td>1 out of 1</td>\n",
              "      <td>Carpet Area</td>\n",
              "      <td>New Town Action Area 1</td>\n",
              "      <td>Kolkata</td>\n",
              "      <td>Furnished</td>\n",
              "      <td>Bachelors/Family</td>\n",
              "      <td>2</td>\n",
              "      <td>Contact Owner</td>\n",
              "    </tr>\n",
              "    <tr>\n",
              "      <th>18</th>\n",
              "      <td>2022-06-09</td>\n",
              "      <td>2</td>\n",
              "      <td>11000</td>\n",
              "      <td>2000</td>\n",
              "      <td>Ground out of 3</td>\n",
              "      <td>Carpet Area</td>\n",
              "      <td>Behala Chowrasta</td>\n",
              "      <td>Kolkata</td>\n",
              "      <td>Unfurnished</td>\n",
              "      <td>Bachelors/Family</td>\n",
              "      <td>1</td>\n",
              "      <td>Contact Owner</td>\n",
              "    </tr>\n",
              "    <tr>\n",
              "      <th>23</th>\n",
              "      <td>2022-06-15</td>\n",
              "      <td>3</td>\n",
              "      <td>6500</td>\n",
              "      <td>1600</td>\n",
              "      <td>Ground out of 2</td>\n",
              "      <td>Super Area</td>\n",
              "      <td>Joka</td>\n",
              "      <td>Kolkata</td>\n",
              "      <td>Unfurnished</td>\n",
              "      <td>Bachelors/Family</td>\n",
              "      <td>1</td>\n",
              "      <td>Contact Owner</td>\n",
              "    </tr>\n",
              "    <tr>\n",
              "      <th>41</th>\n",
              "      <td>2022-05-12</td>\n",
              "      <td>3</td>\n",
              "      <td>12000</td>\n",
              "      <td>1500</td>\n",
              "      <td>Ground out of 2</td>\n",
              "      <td>Carpet Area</td>\n",
              "      <td>Bhadrakali</td>\n",
              "      <td>Kolkata</td>\n",
              "      <td>Furnished</td>\n",
              "      <td>Bachelors</td>\n",
              "      <td>2</td>\n",
              "      <td>Contact Owner</td>\n",
              "    </tr>\n",
              "    <tr>\n",
              "      <th>45</th>\n",
              "      <td>2022-06-06</td>\n",
              "      <td>2</td>\n",
              "      <td>10000</td>\n",
              "      <td>1300</td>\n",
              "      <td>Ground out of 1</td>\n",
              "      <td>Super Area</td>\n",
              "      <td>Kalikapur</td>\n",
              "      <td>Kolkata</td>\n",
              "      <td>Semi-Furnished</td>\n",
              "      <td>Family</td>\n",
              "      <td>2</td>\n",
              "      <td>Contact Owner</td>\n",
              "    </tr>\n",
              "    <tr>\n",
              "      <th>...</th>\n",
              "      <td>...</td>\n",
              "      <td>...</td>\n",
              "      <td>...</td>\n",
              "      <td>...</td>\n",
              "      <td>...</td>\n",
              "      <td>...</td>\n",
              "      <td>...</td>\n",
              "      <td>...</td>\n",
              "      <td>...</td>\n",
              "      <td>...</td>\n",
              "      <td>...</td>\n",
              "      <td>...</td>\n",
              "    </tr>\n",
              "    <tr>\n",
              "      <th>4737</th>\n",
              "      <td>2022-07-07</td>\n",
              "      <td>3</td>\n",
              "      <td>15000</td>\n",
              "      <td>1500</td>\n",
              "      <td>Lower Basement out of 2</td>\n",
              "      <td>Super Area</td>\n",
              "      <td>Almasguda</td>\n",
              "      <td>Hyderabad</td>\n",
              "      <td>Semi-Furnished</td>\n",
              "      <td>Bachelors/Family</td>\n",
              "      <td>3</td>\n",
              "      <td>Contact Owner</td>\n",
              "    </tr>\n",
              "    <tr>\n",
              "      <th>4740</th>\n",
              "      <td>2022-06-02</td>\n",
              "      <td>2</td>\n",
              "      <td>12000</td>\n",
              "      <td>1350</td>\n",
              "      <td>2 out of 2</td>\n",
              "      <td>Super Area</td>\n",
              "      <td>Old Alwal</td>\n",
              "      <td>Hyderabad</td>\n",
              "      <td>Unfurnished</td>\n",
              "      <td>Bachelors/Family</td>\n",
              "      <td>2</td>\n",
              "      <td>Contact Owner</td>\n",
              "    </tr>\n",
              "    <tr>\n",
              "      <th>4742</th>\n",
              "      <td>2022-05-15</td>\n",
              "      <td>3</td>\n",
              "      <td>29000</td>\n",
              "      <td>2000</td>\n",
              "      <td>1 out of 4</td>\n",
              "      <td>Super Area</td>\n",
              "      <td>Manikonda, Hyderabad</td>\n",
              "      <td>Hyderabad</td>\n",
              "      <td>Semi-Furnished</td>\n",
              "      <td>Bachelors/Family</td>\n",
              "      <td>3</td>\n",
              "      <td>Contact Owner</td>\n",
              "    </tr>\n",
              "    <tr>\n",
              "      <th>4743</th>\n",
              "      <td>2022-07-10</td>\n",
              "      <td>3</td>\n",
              "      <td>35000</td>\n",
              "      <td>1750</td>\n",
              "      <td>3 out of 5</td>\n",
              "      <td>Carpet Area</td>\n",
              "      <td>Himayath Nagar, NH 7</td>\n",
              "      <td>Hyderabad</td>\n",
              "      <td>Semi-Furnished</td>\n",
              "      <td>Bachelors/Family</td>\n",
              "      <td>3</td>\n",
              "      <td>Contact Agent</td>\n",
              "    </tr>\n",
              "    <tr>\n",
              "      <th>4744</th>\n",
              "      <td>2022-07-06</td>\n",
              "      <td>3</td>\n",
              "      <td>45000</td>\n",
              "      <td>1500</td>\n",
              "      <td>23 out of 34</td>\n",
              "      <td>Carpet Area</td>\n",
              "      <td>Gachibowli</td>\n",
              "      <td>Hyderabad</td>\n",
              "      <td>Semi-Furnished</td>\n",
              "      <td>Family</td>\n",
              "      <td>2</td>\n",
              "      <td>Contact Agent</td>\n",
              "    </tr>\n",
              "  </tbody>\n",
              "</table>\n",
              "<p>1010 rows × 12 columns</p>\n",
              "</div>\n",
              "      <button class=\"colab-df-convert\" onclick=\"convertToInteractive('df-c43aaf07-0f11-4900-82b9-dd11f7f7287b')\"\n",
              "              title=\"Convert this dataframe to an interactive table.\"\n",
              "              style=\"display:none;\">\n",
              "        \n",
              "  <svg xmlns=\"http://www.w3.org/2000/svg\" height=\"24px\"viewBox=\"0 0 24 24\"\n",
              "       width=\"24px\">\n",
              "    <path d=\"M0 0h24v24H0V0z\" fill=\"none\"/>\n",
              "    <path d=\"M18.56 5.44l.94 2.06.94-2.06 2.06-.94-2.06-.94-.94-2.06-.94 2.06-2.06.94zm-11 1L8.5 8.5l.94-2.06 2.06-.94-2.06-.94L8.5 2.5l-.94 2.06-2.06.94zm10 10l.94 2.06.94-2.06 2.06-.94-2.06-.94-.94-2.06-.94 2.06-2.06.94z\"/><path d=\"M17.41 7.96l-1.37-1.37c-.4-.4-.92-.59-1.43-.59-.52 0-1.04.2-1.43.59L10.3 9.45l-7.72 7.72c-.78.78-.78 2.05 0 2.83L4 21.41c.39.39.9.59 1.41.59.51 0 1.02-.2 1.41-.59l7.78-7.78 2.81-2.81c.8-.78.8-2.07 0-2.86zM5.41 20L4 18.59l7.72-7.72 1.47 1.35L5.41 20z\"/>\n",
              "  </svg>\n",
              "      </button>\n",
              "      \n",
              "  <style>\n",
              "    .colab-df-container {\n",
              "      display:flex;\n",
              "      flex-wrap:wrap;\n",
              "      gap: 12px;\n",
              "    }\n",
              "\n",
              "    .colab-df-convert {\n",
              "      background-color: #E8F0FE;\n",
              "      border: none;\n",
              "      border-radius: 50%;\n",
              "      cursor: pointer;\n",
              "      display: none;\n",
              "      fill: #1967D2;\n",
              "      height: 32px;\n",
              "      padding: 0 0 0 0;\n",
              "      width: 32px;\n",
              "    }\n",
              "\n",
              "    .colab-df-convert:hover {\n",
              "      background-color: #E2EBFA;\n",
              "      box-shadow: 0px 1px 2px rgba(60, 64, 67, 0.3), 0px 1px 3px 1px rgba(60, 64, 67, 0.15);\n",
              "      fill: #174EA6;\n",
              "    }\n",
              "\n",
              "    [theme=dark] .colab-df-convert {\n",
              "      background-color: #3B4455;\n",
              "      fill: #D2E3FC;\n",
              "    }\n",
              "\n",
              "    [theme=dark] .colab-df-convert:hover {\n",
              "      background-color: #434B5C;\n",
              "      box-shadow: 0px 1px 3px 1px rgba(0, 0, 0, 0.15);\n",
              "      filter: drop-shadow(0px 1px 2px rgba(0, 0, 0, 0.3));\n",
              "      fill: #FFFFFF;\n",
              "    }\n",
              "  </style>\n",
              "\n",
              "      <script>\n",
              "        const buttonEl =\n",
              "          document.querySelector('#df-c43aaf07-0f11-4900-82b9-dd11f7f7287b button.colab-df-convert');\n",
              "        buttonEl.style.display =\n",
              "          google.colab.kernel.accessAllowed ? 'block' : 'none';\n",
              "\n",
              "        async function convertToInteractive(key) {\n",
              "          const element = document.querySelector('#df-c43aaf07-0f11-4900-82b9-dd11f7f7287b');\n",
              "          const dataTable =\n",
              "            await google.colab.kernel.invokeFunction('convertToInteractive',\n",
              "                                                     [key], {});\n",
              "          if (!dataTable) return;\n",
              "\n",
              "          const docLinkHtml = 'Like what you see? Visit the ' +\n",
              "            '<a target=\"_blank\" href=https://colab.research.google.com/notebooks/data_table.ipynb>data table notebook</a>'\n",
              "            + ' to learn more about interactive tables.';\n",
              "          element.innerHTML = '';\n",
              "          dataTable['output_type'] = 'display_data';\n",
              "          await google.colab.output.renderOutput(dataTable, element);\n",
              "          const docLink = document.createElement('div');\n",
              "          docLink.innerHTML = docLinkHtml;\n",
              "          element.appendChild(docLink);\n",
              "        }\n",
              "      </script>\n",
              "    </div>\n",
              "  </div>\n",
              "  "
            ]
          },
          "metadata": {},
          "execution_count": 9
        }
      ]
    },
    {
      "cell_type": "code",
      "source": [
        "mediana = sts.median(dataset['Size'])\n",
        "mediana"
      ],
      "metadata": {
        "colab": {
          "base_uri": "https://localhost:8080/"
        },
        "id": "QbweqT6vKC1H",
        "outputId": "96c1429c-a874-4808-be48-f3e4d1f59f4c"
      },
      "execution_count": null,
      "outputs": [
        {
          "output_type": "execute_result",
          "data": {
            "text/plain": [
              "850.0"
            ]
          },
          "metadata": {},
          "execution_count": 10
        }
      ]
    },
    {
      "cell_type": "code",
      "source": [
        "dataset.loc[dataset['Size'] >= 2*desv, 'Size'] = mediana"
      ],
      "metadata": {
        "id": "T5cxg2XtJ1PV"
      },
      "execution_count": null,
      "outputs": []
    },
    {
      "cell_type": "code",
      "source": [
        "dataset.loc[dataset['Size'] >= 2*desv]"
      ],
      "metadata": {
        "colab": {
          "base_uri": "https://localhost:8080/",
          "height": 93
        },
        "id": "Q1jCzTbSJ7OB",
        "outputId": "0aa64fa0-2aa0-4623-cfe3-3be3db3dd07c"
      },
      "execution_count": null,
      "outputs": [
        {
          "output_type": "execute_result",
          "data": {
            "text/plain": [
              "Empty DataFrame\n",
              "Columns: [Posted On, BHK, Rent, Size, Floor, Area Type, Area Locality, City, Furnishing Status, Tenant Preferred, Bathroom, Point of Contact]\n",
              "Index: []"
            ],
            "text/html": [
              "\n",
              "  <div id=\"df-edcc0ab1-ca09-4064-9ece-a6b4a920cfcc\">\n",
              "    <div class=\"colab-df-container\">\n",
              "      <div>\n",
              "<style scoped>\n",
              "    .dataframe tbody tr th:only-of-type {\n",
              "        vertical-align: middle;\n",
              "    }\n",
              "\n",
              "    .dataframe tbody tr th {\n",
              "        vertical-align: top;\n",
              "    }\n",
              "\n",
              "    .dataframe thead th {\n",
              "        text-align: right;\n",
              "    }\n",
              "</style>\n",
              "<table border=\"1\" class=\"dataframe\">\n",
              "  <thead>\n",
              "    <tr style=\"text-align: right;\">\n",
              "      <th></th>\n",
              "      <th>Posted On</th>\n",
              "      <th>BHK</th>\n",
              "      <th>Rent</th>\n",
              "      <th>Size</th>\n",
              "      <th>Floor</th>\n",
              "      <th>Area Type</th>\n",
              "      <th>Area Locality</th>\n",
              "      <th>City</th>\n",
              "      <th>Furnishing Status</th>\n",
              "      <th>Tenant Preferred</th>\n",
              "      <th>Bathroom</th>\n",
              "      <th>Point of Contact</th>\n",
              "    </tr>\n",
              "  </thead>\n",
              "  <tbody>\n",
              "  </tbody>\n",
              "</table>\n",
              "</div>\n",
              "      <button class=\"colab-df-convert\" onclick=\"convertToInteractive('df-edcc0ab1-ca09-4064-9ece-a6b4a920cfcc')\"\n",
              "              title=\"Convert this dataframe to an interactive table.\"\n",
              "              style=\"display:none;\">\n",
              "        \n",
              "  <svg xmlns=\"http://www.w3.org/2000/svg\" height=\"24px\"viewBox=\"0 0 24 24\"\n",
              "       width=\"24px\">\n",
              "    <path d=\"M0 0h24v24H0V0z\" fill=\"none\"/>\n",
              "    <path d=\"M18.56 5.44l.94 2.06.94-2.06 2.06-.94-2.06-.94-.94-2.06-.94 2.06-2.06.94zm-11 1L8.5 8.5l.94-2.06 2.06-.94-2.06-.94L8.5 2.5l-.94 2.06-2.06.94zm10 10l.94 2.06.94-2.06 2.06-.94-2.06-.94-.94-2.06-.94 2.06-2.06.94z\"/><path d=\"M17.41 7.96l-1.37-1.37c-.4-.4-.92-.59-1.43-.59-.52 0-1.04.2-1.43.59L10.3 9.45l-7.72 7.72c-.78.78-.78 2.05 0 2.83L4 21.41c.39.39.9.59 1.41.59.51 0 1.02-.2 1.41-.59l7.78-7.78 2.81-2.81c.8-.78.8-2.07 0-2.86zM5.41 20L4 18.59l7.72-7.72 1.47 1.35L5.41 20z\"/>\n",
              "  </svg>\n",
              "      </button>\n",
              "      \n",
              "  <style>\n",
              "    .colab-df-container {\n",
              "      display:flex;\n",
              "      flex-wrap:wrap;\n",
              "      gap: 12px;\n",
              "    }\n",
              "\n",
              "    .colab-df-convert {\n",
              "      background-color: #E8F0FE;\n",
              "      border: none;\n",
              "      border-radius: 50%;\n",
              "      cursor: pointer;\n",
              "      display: none;\n",
              "      fill: #1967D2;\n",
              "      height: 32px;\n",
              "      padding: 0 0 0 0;\n",
              "      width: 32px;\n",
              "    }\n",
              "\n",
              "    .colab-df-convert:hover {\n",
              "      background-color: #E2EBFA;\n",
              "      box-shadow: 0px 1px 2px rgba(60, 64, 67, 0.3), 0px 1px 3px 1px rgba(60, 64, 67, 0.15);\n",
              "      fill: #174EA6;\n",
              "    }\n",
              "\n",
              "    [theme=dark] .colab-df-convert {\n",
              "      background-color: #3B4455;\n",
              "      fill: #D2E3FC;\n",
              "    }\n",
              "\n",
              "    [theme=dark] .colab-df-convert:hover {\n",
              "      background-color: #434B5C;\n",
              "      box-shadow: 0px 1px 3px 1px rgba(0, 0, 0, 0.15);\n",
              "      filter: drop-shadow(0px 1px 2px rgba(0, 0, 0, 0.3));\n",
              "      fill: #FFFFFF;\n",
              "    }\n",
              "  </style>\n",
              "\n",
              "      <script>\n",
              "        const buttonEl =\n",
              "          document.querySelector('#df-edcc0ab1-ca09-4064-9ece-a6b4a920cfcc button.colab-df-convert');\n",
              "        buttonEl.style.display =\n",
              "          google.colab.kernel.accessAllowed ? 'block' : 'none';\n",
              "\n",
              "        async function convertToInteractive(key) {\n",
              "          const element = document.querySelector('#df-edcc0ab1-ca09-4064-9ece-a6b4a920cfcc');\n",
              "          const dataTable =\n",
              "            await google.colab.kernel.invokeFunction('convertToInteractive',\n",
              "                                                     [key], {});\n",
              "          if (!dataTable) return;\n",
              "\n",
              "          const docLinkHtml = 'Like what you see? Visit the ' +\n",
              "            '<a target=\"_blank\" href=https://colab.research.google.com/notebooks/data_table.ipynb>data table notebook</a>'\n",
              "            + ' to learn more about interactive tables.';\n",
              "          element.innerHTML = '';\n",
              "          dataTable['output_type'] = 'display_data';\n",
              "          await google.colab.output.renderOutput(dataTable, element);\n",
              "          const docLink = document.createElement('div');\n",
              "          docLink.innerHTML = docLinkHtml;\n",
              "          element.appendChild(docLink);\n",
              "        }\n",
              "      </script>\n",
              "    </div>\n",
              "  </div>\n",
              "  "
            ]
          },
          "metadata": {},
          "execution_count": 12
        }
      ]
    },
    {
      "cell_type": "markdown",
      "source": [
        "**Rechecking the Size distribution after eliminating outliers**"
      ],
      "metadata": {
        "id": "yewFe4dtK90w"
      }
    },
    {
      "cell_type": "code",
      "source": [
        "srn.boxplot(dataset['Size']).set_title('Size')"
      ],
      "metadata": {
        "colab": {
          "base_uri": "https://localhost:8080/",
          "height": 370
        },
        "id": "yzX0y8uNLJ65",
        "outputId": "86031c73-2793-4a7c-d305-2fc01634240f"
      },
      "execution_count": null,
      "outputs": [
        {
          "output_type": "stream",
          "name": "stderr",
          "text": [
            "/usr/local/lib/python3.7/dist-packages/seaborn/_decorators.py:43: FutureWarning: Pass the following variable as a keyword arg: x. From version 0.12, the only valid positional argument will be `data`, and passing other arguments without an explicit keyword will result in an error or misinterpretation.\n",
            "  FutureWarning\n"
          ]
        },
        {
          "output_type": "execute_result",
          "data": {
            "text/plain": [
              "Text(0.5, 1.0, 'Size')"
            ]
          },
          "metadata": {},
          "execution_count": 36
        },
        {
          "output_type": "display_data",
          "data": {
            "text/plain": [
              "<Figure size 432x288 with 1 Axes>"
            ],
            "image/png": "[encoded data removed]"
          },
          "metadata": {
            "needs_background": "light"
          }
        }
      ]
    },
    {
      "cell_type": "code",
      "source": [
        "srn.distplot(dataset['Size']).set_title('Size')"
      ],
      "metadata": {
        "colab": {
          "base_uri": "https://localhost:8080/",
          "height": 370
        },
        "id": "L9MapV_5LLcf",
        "outputId": "3cd9668e-6b55-4ba5-a9eb-edcf71d3f0bb"
      },
      "execution_count": null,
      "outputs": [
        {
          "output_type": "stream",
          "name": "stderr",
          "text": [
            "/usr/local/lib/python3.7/dist-packages/seaborn/distributions.py:2619: FutureWarning: `distplot` is a deprecated function and will be removed in a future version. Please adapt your code to use either `displot` (a figure-level function with similar flexibility) or `histplot` (an axes-level function for histograms).\n",
            "  warnings.warn(msg, FutureWarning)\n"
          ]
        },
        {
          "output_type": "execute_result",
          "data": {
            "text/plain": [
              "Text(0.5, 1.0, 'Size')"
            ]
          },
          "metadata": {},
          "execution_count": 37
        },
        {
          "output_type": "display_data",
          "data": {
            "text/plain": [
              "<Figure size 432x288 with 1 Axes>"
            ],
            "image/png": "[encoded data removed]"
          },
          "metadata": {
            "needs_background": "light"
          }
        }
      ]
    },
    {
      "cell_type": "markdown",
      "source": [
        "**Plotting categorical variables vs Rent**"
      ],
      "metadata": {
        "id": "AhZlB2tWCCmC"
      }
    },
    {
      "cell_type": "code",
      "source": [
        "srn.set_context('notebook', font_scale = 1.3)\n",
        "plt.figure(figsize=(15, 7))\n",
        "ax = srn.barplot(x=dataset['City'], \n",
        "                 y=dataset['Rent'], \n",
        "                 palette='viridis',\n",
        "                 ci = None)\n",
        "plt.ylabel('Rent');\n",
        "\n",
        "for p in ax.patches:\n",
        "    ax.annotate(int(p.get_height()), (p.get_x() + 0.4, p.get_height() + 1), ha = 'center', va = 'bottom', color = 'Black')"
      ],
      "metadata": {
        "colab": {
          "base_uri": "https://localhost:8080/",
          "height": 454
        },
        "id": "OYOqO8uzCBp4",
        "outputId": "ccf0353e-26df-467d-93d6-15c7c81e470c"
      },
      "execution_count": null,
      "outputs": [
        {
          "output_type": "display_data",
          "data": {
            "text/plain": [
              "<Figure size 1080x504 with 1 Axes>"
            ],
            "image/png": "[encoded data removed]"
          },
          "metadata": {
            "needs_background": "light"
          }
        }
      ]
    },
    {
      "cell_type": "code",
      "source": [
        "srn.set_context('notebook', font_scale = 1.3)\n",
        "plt.figure(figsize=(15, 7))\n",
        "ax = srn.barplot(x=dataset['BHK'].sort_values(ascending=True), \n",
        "                 y=dataset['Rent'], \n",
        "                 palette='viridis',\n",
        "                 ci = None)\n",
        "plt.ylabel('Rent');\n",
        "\n",
        "for p in ax.patches:\n",
        "    ax.annotate(int(p.get_height()), (p.get_x() + 0.4, p.get_height() + 1), ha = 'center', va = 'bottom', color = 'Black')"
      ],
      "metadata": {
        "id": "gZXPNNx2DHoj",
        "outputId": "2a37edb1-968e-414f-9247-44e72ffd179b",
        "colab": {
          "base_uri": "https://localhost:8080/",
          "height": 454
        }
      },
      "execution_count": null,
      "outputs": [
        {
          "output_type": "display_data",
          "data": {
            "text/plain": [
              "<Figure size 1080x504 with 1 Axes>"
            ],
            "image/png": "[encoded data removed]"
          },
          "metadata": {
            "needs_background": "light"
          }
        }
      ]
    },
    {
      "cell_type": "code",
      "source": [
        "agrupado = dataset.groupby(['City']).size()\n",
        "agrupado"
      ],
      "metadata": {
        "colab": {
          "base_uri": "https://localhost:8080/"
        },
        "id": "BkdMNq80p5HQ",
        "outputId": "2c197c06-c10d-4fc4-a7e7-6ddc4f4d5bd7"
      },
      "execution_count": null,
      "outputs": [
        {
          "output_type": "execute_result",
          "data": {
            "text/plain": [
              "City\n",
              "Bangalore    886\n",
              "Chennai      891\n",
              "Delhi        605\n",
              "Hyderabad    868\n",
              "Kolkata      524\n",
              "Mumbai       972\n",
              "dtype: int64"
            ]
          },
          "metadata": {},
          "execution_count": 4
        }
      ]
    },
    {
      "cell_type": "code",
      "source": [
        "agrupado.plot.bar()"
      ],
      "metadata": {
        "colab": {
          "base_uri": "https://localhost:8080/",
          "height": 342
        },
        "id": "vv1GOweczjd7",
        "outputId": "2958cdc2-c0cb-42ba-a094-1f8c60ad217d"
      },
      "execution_count": null,
      "outputs": [
        {
          "output_type": "execute_result",
          "data": {
            "text/plain": [
              "<matplotlib.axes._subplots.AxesSubplot at 0x7f6090b35c90>"
            ]
          },
          "metadata": {},
          "execution_count": 5
        },
        {
          "output_type": "display_data",
          "data": {
            "text/plain": [
              "<Figure size 432x288 with 1 Axes>"
            ],
            "image/png": "[encoded data removed]"
          },
          "metadata": {
            "needs_background": "light"
          }
        }
      ]
    },
    {
      "cell_type": "code",
      "source": [
        "agrupado = dataset.groupby(['Area Type']).size()\n",
        "agrupado"
      ],
      "metadata": {
        "colab": {
          "base_uri": "https://localhost:8080/"
        },
        "id": "CvbwJtGRzJn3",
        "outputId": "976b43b1-a95f-44f5-ef36-0e6fede6cb0c"
      },
      "execution_count": null,
      "outputs": [
        {
          "output_type": "execute_result",
          "data": {
            "text/plain": [
              "Area Type\n",
              "Built Area        2\n",
              "Carpet Area    2298\n",
              "Super Area     2446\n",
              "dtype: int64"
            ]
          },
          "metadata": {},
          "execution_count": 6
        }
      ]
    },
    {
      "cell_type": "code",
      "source": [
        "dk=dataset.corr()\n",
        "dk\n",
        "srn.heatmap(dk,annot=True,)"
      ],
      "metadata": {
        "id": "alrjoSFfDqYf",
        "colab": {
          "base_uri": "https://localhost:8080/",
          "height": 287
        },
        "outputId": "7bd1e8d9-a5d6-406b-d0be-76c6ce8b48ad"
      },
      "execution_count": null,
      "outputs": [
        {
          "output_type": "execute_result",
          "data": {
            "text/plain": [
              "<matplotlib.axes._subplots.AxesSubplot at 0x7fe1defbd090>"
            ]
          },
          "metadata": {},
          "execution_count": 10
        },
        {
          "output_type": "display_data",
          "data": {
            "text/plain": [
              "<Figure size 432x288 with 2 Axes>"
            ],
            "image/png": "[encoded data removed]"
          },
          "metadata": {
            "needs_background": "light"
          }
        }
      ]
    },
    {
      "cell_type": "code",
      "source": [
        "dataset.corr()[['Rent']].sort_values(by='Rent', ascending=False)\n",
        "plt.figure(figsize=(8, 12))\n",
        "heatmap = srn.heatmap(dataset.corr()[['Rent']].sort_values(by='Rent', ascending=False), vmin=-1, vmax=1, annot=True, cmap='BrBG')\n",
        "heatmap.set_title('Features Correlating with Rent', fontdict={'fontsize':18}, pad=16);"
      ],
      "metadata": {
        "colab": {
          "base_uri": "https://localhost:8080/",
          "height": 730
        },
        "id": "mUQ2uZHeg8wa",
        "outputId": "1aef5787-edf6-4eb9-93b1-f11b347f57b1"
      },
      "execution_count": null,
      "outputs": [
        {
          "output_type": "display_data",
          "data": {
            "text/plain": [
              "<Figure size 576x864 with 2 Axes>"
            ],
            "image/png": "[encoded data removed]"
          },
          "metadata": {
            "needs_background": "light"
          }
        }
      ]
    },
    {
      "cell_type": "code",
      "source": [
        "px.scatter(dataset,y='Rent',x='Bathroom')"
      ],
      "metadata": {
        "colab": {
          "base_uri": "https://localhost:8080/",
          "height": 542
        },
        "id": "9x1CEDU5iFCX",
        "outputId": "d66f0f12-4274-47e5-d998-e98cfb75a4bf"
      },
      "execution_count": null,
      "outputs": [
        {
          "output_type": "display_data",
          "data": {
            "text/html": [
              "<html>\n",
              "<head><meta charset=\"utf-8\" /></head>\n",
              "<body>\n",
              "    <div>            <script src=\"https://cdnjs.cloudflare.com/ajax/libs/mathjax/2.7.5/MathJax.js?config=TeX-AMS-MML_SVG\"></script><script type=\"text/javascript\">if (window.MathJax) {MathJax.Hub.Config({SVG: {font: \"STIX-Web\"}});}</script>                <script type=\"text/javascript\">window.PlotlyConfig = {MathJaxConfig: 'local'};</script>\n",
              "        <script src=\"https://cdn.plot.ly/plotly-2.8.3.min.js\"></script>                <div id=\"ba2ca06e-5a7c-482c-8dab-5b27f357c7ab\" class=\"plotly-graph-div\" style=\"height:525px; width:100%;\"></div>            <script type=\"text/javascript\">                                    window.PLOTLYENV=window.PLOTLYENV || {};                                    if (document.getElementById(\"ba2ca06e-5a7c-482c-8dab-5b27f357c7ab\")) {                    Plotly.newPlot(                        \"ba2ca06e-5a7c-482c-8dab-5b27f357c7ab\",                        [{\"hovertemplate\":\"Bathroom=%{x}<br>Rent=%{y}<extra></extra>\",\"legendgroup\":\"\",\"marker\":{\"color\":\"#636efa\",\"symbol\":\"circle\"},\"mode\":\"markers\",\"name\":\"\",\"showlegend\":false,\"x\":[2,1,1,1,1,2,2,1,2,2,2,1,1,1,2,2,1,1,1,1,1,2,1,1,1,1,1,1,1,2,1,2,1,2,1,1,1,1,2,1,1,2,1,1,1,2,1,2,2,2,1,1,1,2,1,1,1,2,2,2,1,3,2,2,1,1,1,1,1,1,1,1,1,1,2,2,1,1,1,1,2,1,2,2,1,1,2,1,1,1,2,2,1,1,2,1,2,1,2,2,3,3,2,2,2,1,2,1,1,1,1,1,1,2,2,2,1,1,1,2,1,2,1,2,1,2,1,1,1,1,1,1,2,1,1,1,1,2,1,2,2,1,1,1,1,2,1,1,1,3,1,1,1,2,1,2,1,2,2,1,2,2,1,2,2,1,2,1,1,3,1,1,1,1,2,1,1,1,2,2,1,3,2,1,2,1,2,2,1,1,1,1,2,2,1,1,1,2,2,1,1,1,1,1,1,1,1,1,1,1,1,1,1,2,1,1,2,2,2,1,2,1,1,2,2,2,1,1,1,2,1,1,2,3,1,1,2,1,1,2,1,1,1,1,2,2,2,1,1,2,1,2,1,2,3,1,1,1,2,2,1,3,1,1,1,1,2,1,1,1,1,1,2,1,1,3,2,1,1,1,1,1,1,2,1,1,3,1,2,1,1,2,2,2,1,1,2,2,1,1,2,2,2,1,1,1,1,2,1,2,1,1,1,1,2,1,2,1,1,1,1,1,1,1,2,2,2,1,1,1,1,1,1,3,2,1,2,1,2,2,1,2,1,2,1,2,1,2,1,2,2,2,1,2,1,2,1,3,1,1,1,1,1,2,1,1,1,2,2,1,1,1,1,2,2,1,1,1,1,1,2,2,2,1,2,1,1,1,1,1,2,2,1,3,1,1,1,3,1,1,1,1,2,1,1,3,2,1,2,2,1,2,1,2,1,2,1,1,1,1,1,1,1,1,1,2,1,1,1,1,2,1,2,1,1,2,1,2,1,1,1,1,1,1,1,2,2,2,2,1,1,1,1,1,1,1,1,1,1,3,2,2,2,2,1,1,2,1,1,1,1,1,1,2,2,1,1,2,2,2,2,2,1,2,1,1,2,2,2,2,1,1,2,2,1,2,1,2,2,2,1,2,2,1,2,1,1,1,1,3,1,3,1,1,2,2,3,1,2,1,2,2,3,2,1,2,1,3,1,1,2,5,1,4,2,2,2,1,2,2,2,2,4,5,2,2,1,2,2,2,1,2,1,1,2,1,5,1,2,2,3,2,1,2,2,2,2,1,2,2,2,2,2,2,1,2,2,2,2,4,1,2,2,3,2,2,2,2,2,5,2,3,2,3,1,2,3,2,2,2,4,3,3,4,3,2,2,3,3,2,2,2,2,2,1,2,2,4,3,3,3,2,1,4,1,4,3,5,2,2,2,4,2,3,3,3,2,1,2,4,3,2,2,3,1,2,3,2,2,2,1,5,1,2,2,2,1,1,3,2,2,2,2,1,2,3,5,3,1,2,3,3,3,3,1,2,1,2,2,2,4,2,3,1,2,4,2,4,2,2,2,1,1,2,2,1,2,2,2,4,3,3,4,2,2,2,3,2,2,2,5,2,1,2,2,2,1,2,1,2,2,2,2,2,3,2,4,3,4,3,2,4,2,3,1,4,2,2,2,2,2,1,5,1,1,3,5,2,2,3,3,2,3,2,3,2,2,4,1,2,1,2,2,2,2,1,3,2,3,2,2,3,1,3,1,2,2,3,4,2,4,3,3,3,1,2,2,2,3,3,4,2,5,1,1,3,1,2,3,4,2,2,2,1,3,2,1,2,3,1,2,2,2,2,2,2,1,2,2,3,1,2,2,3,3,2,3,4,2,5,2,2,3,2,4,3,2,2,2,5,2,2,4,3,2,2,2,3,5,1,4,4,2,3,3,2,2,3,3,3,2,3,2,1,1,1,3,4,3,3,2,3,1,4,3,1,4,1,2,2,1,2,1,2,2,1,2,1,2,4,2,1,2,1,2,3,1,2,4,2,3,2,3,3,2,2,3,2,1,2,2,2,1,3,1,2,2,1,2,2,1,3,2,4,3,2,2,5,2,1,2,2,3,2,2,2,4,2,2,1,2,3,2,1,1,2,2,1,1,2,2,3,3,2,1,2,2,2,2,1,4,1,2,2,2,2,3,3,2,2,2,2,3,3,1,2,4,2,2,1,2,3,4,1,5,4,3,1,5,3,2,4,3,2,3,5,2,1,2,2,2,4,1,2,4,3,1,1,1,1,3,3,3,2,2,1,2,2,2,3,1,1,2,5,3,2,1,2,2,2,3,3,3,1,2,4,2,5,4,2,3,1,5,2,1,3,2,2,2,2,2,2,3,2,2,2,1,3,1,2,2,2,2,2,2,3,1,2,1,1,3,3,2,3,1,1,2,3,2,2,4,1,2,2,3,2,4,3,2,2,2,2,1,6,1,1,3,1,1,3,2,2,2,2,2,3,3,1,2,2,2,1,4,3,2,3,2,3,1,2,3,2,3,2,4,2,2,2,1,2,2,2,2,2,2,3,3,2,1,2,2,1,4,3,2,2,4,2,2,1,2,4,3,3,3,2,2,2,2,4,6,3,2,4,2,3,2,2,2,4,3,4,3,2,2,6,2,2,2,2,1,2,3,1,2,2,2,3,2,3,1,2,1,1,2,2,2,2,2,3,1,3,4,1,1,3,2,2,3,2,2,2,2,2,1,1,2,2,2,3,3,2,4,2,1,1,2,2,3,2,2,3,2,3,3,3,2,3,5,3,2,2,2,1,4,2,2,3,2,3,2,2,2,1,3,4,2,2,1,2,4,4,2,2,3,2,3,1,3,2,2,2,2,3,2,2,3,3,1,1,3,2,2,2,2,2,1,4,2,1,4,2,5,2,3,2,2,2,2,1,2,2,4,5,2,2,2,1,2,5,3,2,2,1,2,2,1,2,2,5,1,2,1,2,2,2,1,2,2,4,2,2,1,1,2,2,3,1,2,2,1,2,1,2,4,5,1,3,2,2,2,1,2,3,1,3,2,2,2,2,2,2,2,1,1,2,3,2,1,4,3,1,1,2,3,2,2,2,3,3,3,2,2,4,5,2,2,2,4,4,2,5,3,5,1,2,1,2,1,2,1,3,3,3,2,2,1,1,2,2,2,2,2,3,1,2,2,3,2,1,3,2,1,2,2,2,2,2,2,2,2,5,2,1,2,2,2,2,4,3,2,3,3,1,1,3,3,2,2,5,2,4,2,1,1,2,1,2,2,4,3,2,1,3,1,2,2,2,1,2,2,2,2,1,3,2,5,2,2,2,1,2,5,1,5,3,2,2,2,6,2,2,3,1,2,5,3,2,2,2,3,1,3,2,1,2,3,2,1,1,3,2,1,1,1,3,1,2,2,1,2,1,3,3,1,1,1,1,2,1,2,1,2,3,2,1,2,1,2,2,2,1,3,3,1,1,1,2,2,1,2,1,2,4,2,3,4,2,2,1,3,1,1,2,1,1,2,1,2,2,2,2,1,2,2,1,4,2,2,2,3,3,2,1,2,2,2,2,2,3,1,2,2,1,1,1,2,2,1,1,1,1,1,2,2,3,3,1,2,3,3,1,1,1,1,1,2,1,1,2,5,2,1,2,1,2,3,1,2,2,1,2,2,2,1,2,1,1,1,2,2,2,2,1,2,2,2,2,1,2,1,2,1,2,1,1,1,1,2,2,5,1,1,1,1,2,1,1,3,1,4,2,2,1,2,2,2,2,2,2,4,1,1,2,1,1,2,2,1,2,1,3,2,2,2,2,1,1,2,3,3,2,1,3,1,1,2,1,3,2,1,2,3,3,1,1,2,2,5,2,2,1,2,1,1,3,2,2,1,2,1,2,2,1,3,2,2,2,3,1,1,1,2,3,1,1,3,2,1,1,3,1,1,2,1,1,2,2,2,1,2,1,2,2,2,3,2,1,1,2,2,1,2,1,2,1,1,2,3,2,2,1,1,1,2,2,2,2,2,1,1,2,1,2,2,1,2,3,3,1,2,1,4,1,1,1,2,2,1,1,4,1,1,1,2,2,1,3,2,1,1,2,2,1,3,2,3,2,2,3,1,1,1,1,1,1,3,3,1,2,2,2,1,2,1,2,2,2,3,2,2,1,1,1,2,3,2,2,2,1,2,2,2,3,2,1,2,2,2,2,2,2,3,2,2,2,1,3,1,1,1,1,3,3,2,2,2,1,2,2,1,2,2,1,2,2,1,1,3,1,1,2,2,3,2,2,2,2,2,1,4,1,2,1,3,2,1,1,1,1,2,2,1,1,1,2,2,2,1,2,2,2,2,3,2,4,2,1,1,2,2,2,1,2,1,1,2,1,1,2,2,2,2,1,2,1,2,2,2,2,1,3,1,1,3,1,3,2,1,3,1,1,2,2,3,2,2,2,2,2,2,1,2,2,1,4,2,1,1,1,1,3,2,1,2,2,2,3,2,2,3,1,2,3,2,2,1,2,1,2,2,2,3,2,1,2,3,2,1,1,1,1,1,3,2,3,1,1,4,2,1,2,1,1,2,2,2,2,2,2,1,2,3,1,2,3,1,3,4,1,3,1,2,1,1,1,2,1,2,1,2,1,2,1,3,1,1,1,2,2,3,3,2,2,2,2,1,2,1,4,1,1,1,2,2,1,1,3,1,2,2,1,1,3,2,1,1,2,2,2,1,1,2,1,3,2,1,2,3,1,1,1,3,1,2,3,3,1,2,1,2,4,1,1,1,2,1,2,2,2,1,1,2,2,2,1,1,1,2,3,1,2,1,1,1,2,3,1,1,1,2,3,2,1,2,2,3,1,1,3,2,1,2,2,1,2,1,1,2,1,1,2,2,2,2,1,3,2,2,1,2,2,1,2,2,2,5,2,2,2,3,3,2,3,1,1,1,2,3,1,2,1,1,2,2,2,2,2,1,3,2,3,3,3,2,2,2,2,1,3,1,2,3,1,1,2,2,3,1,3,1,3,1,1,1,1,5,1,1,2,2,2,1,1,2,2,2,1,2,2,1,2,2,2,1,2,1,2,2,3,1,1,1,3,3,2,1,1,1,1,1,1,2,1,3,1,2,2,1,1,2,1,1,1,2,3,1,1,3,1,1,2,1,1,1,2,1,1,2,3,2,1,2,2,1,2,3,3,2,1,1,2,2,1,2,2,4,1,2,1,2,1,2,3,2,2,1,2,1,1,2,2,2,1,2,2,1,2,3,2,3,1,2,3,2,1,2,4,1,2,2,2,1,1,1,2,2,2,2,2,3,1,1,1,1,1,2,3,3,2,2,4,1,1,3,3,2,1,2,1,2,2,2,1,3,1,3,3,2,2,4,1,2,1,3,1,1,1,1,5,2,1,3,4,2,1,2,1,2,1,2,1,2,1,1,1,3,1,1,2,3,3,1,1,2,1,2,1,1,2,2,1,3,2,3,2,2,2,2,3,2,4,1,2,1,2,2,1,2,1,2,3,1,3,2,3,4,1,1,3,1,2,1,2,2,1,1,2,1,1,2,3,2,1,2,1,2,1,1,1,2,2,1,1,2,1,4,3,2,1,2,1,1,1,1,2,2,2,2,2,1,1,1,2,1,2,1,2,1,2,2,2,2,2,2,1,3,1,2,1,3,1,2,2,2,1,2,3,2,2,1,1,2,4,1,1,2,1,2,3,1,3,1,1,2,2,2,2,1,2,2,2,3,1,2,1,2,1,1,1,1,4,2,2,2,2,1,1,1,2,2,1,1,3,3,1,2,4,2,3,1,1,1,2,1,2,2,2,2,2,1,3,1,2,1,3,2,2,2,2,2,2,2,1,2,3,3,2,3,3,2,2,1,2,3,3,4,2,3,2,1,1,1,3,1,1,1,1,2,1,3,1,1,2,1,1,1,2,2,2,1,2,4,2,3,1,2,2,2,1,1,2,2,1,1,1,5,1,3,2,2,1,1,3,3,3,4,3,3,4,3,3,2,1,1,2,3,2,2,2,1,3,3,1,1,2,2,2,4,2,2,1,1,2,2,3,2,1,1,2,1,4,1,1,1,2,1,2,2,1,1,1,1,1,4,1,1,2,3,1,1,2,1,1,2,2,2,1,2,2,1,1,1,1,2,2,1,1,2,1,1,3,1,2,1,2,3,2,2,2,5,1,1,2,1,4,3,1,1,1,1,1,4,1,2,1,2,2,3,1,3,2,2,2,1,3,1,2,1,2,2,2,2,2,1,2,2,2,1,1,1,2,2,1,4,3,1,2,2,2,1,2,1,1,2,1,2,3,1,2,2,2,2,1,1,1,2,3,2,2,1,1,3,4,2,2,3,2,3,1,1,2,1,1,1,3,1,1,2,2,2,2,3,3,2,6,7,4,5,6,1,2,2,2,2,3,2,4,1,2,2,2,1,1,4,1,2,1,2,3,1,1,2,1,2,1,3,2,2,1,2,1,1,1,1,1,1,2,2,1,1,1,1,2,2,1,1,1,1,1,2,2,2,2,3,2,1,1,1,2,2,4,4,1,1,1,2,1,3,2,3,1,3,4,2,2,3,2,2,1,1,3,5,2,3,1,1,2,2,1,2,1,1,1,2,1,2,2,2,2,1,2,2,1,1,1,1,2,2,1,3,3,1,1,3,2,1,2,1,1,2,1,3,1,3,2,1,1,1,2,2,2,2,1,1,2,2,2,2,3,4,1,2,2,3,3,2,2,2,2,3,2,2,1,2,2,2,1,2,1,1,1,4,2,2,1,1,3,2,6,2,1,1,1,2,1,2,2,1,1,2,1,2,2,2,1,1,3,2,3,2,3,1,2,2,2,2,2,3,2,2,2,2,2,2,2,3,2,2,2,2,3,2,2,1,2,1,1,1,3,1,1,1,3,2,2,3,1,1,2,3,2,3,2,1,1,2,2,3,2,2,2,2,2,2,1,3,2,2,2,1,2,2,2,2,3,1,1,1,1,3,4,3,1,2,2,2,2,5,1,1,2,3,2,2,3,1,2,2,3,2,2,3,2,3,2,2,3,2,2,2,2,1,1,2,3,3,1,3,2,2,2,2,3,1,4,2,2,2,2,2,1,1,2,2,2,2,2,2,1,2,1,2,2,1,3,2,2,2,2,2,2,2,1,2,1,1,2,2,2,1,2,1,2,1,2,2,1,1,2,2,2,2,2,2,2,2,2,3,3,3,2,3,1,2,2,2,2,2,2,1,2,1,1,2,1,3,2,2,2,3,3,2,1,1,3,3,1,3,2,2,1,2,2,1,1,1,2,1,2,2,2,4,1,2,2,2,2,2,2,2,2,2,2,3,2,2,2,2,3,2,1,2,2,3,3,1,2,2,2,2,2,1,1,2,2,3,1,4,3,2,3,1,2,2,1,2,2,4,1,1,2,3,3,2,2,3,1,3,2,1,2,2,2,2,2,1,3,1,2,5,2,2,2,1,1,2,4,2,2,4,1,2,2,1,2,2,2,1,1,2,2,2,2,2,2,2,2,1,3,3,2,2,1,3,2,1,3,2,2,2,2,3,2,1,2,2,1,1,2,3,2,2,2,2,2,1,2,1,2,2,3,3,2,2,3,2,1,2,2,2,1,2,2,1,2,2,2,2,2,2,3,2,3,1,1,1,2,2,2,2,2,2,3,2,2,2,2,2,3,3,3,3,1,2,2,2,3,2,2,1,1,1,1,2,2,2,3,3,2,2,2,1,2,3,2,1,2,2,2,2,2,2,4,2,1,2,4,2,1,2,2,3,1,3,1,2,2,2,1,2,3,5,3,2,2,3,2,2,2,1,2,3,2,2,2,2,2,2,1,2,2,3,3,1,1,2,3,2,1,1,2,3,2,3,2,2,2,2,3,1,2,2,2,1,2,2,1,3,1,3,1,2,2,3,2,1,2,2,1,3,1,2,2,3,2,2,3,2,2,3,3,2,2,2,2,2,2,2,3,1,2,2,3,2,2,1,1,2,3,3,1,3,2,1,2,2,3,1,2,2,1,2,2,1,2,3,2,2,3,2,5,1,2,6,1,2,1,2,1,2,2,2,2,2,1,2,1,2,2,1,1,1,1,1,2,2,1,2,2,2,2,2,3,2,2,2,1,2,2,1,1,4,2,1,2,3,2,2,3,2,3,2,3,1,1,2,2,1,4,2,2,2,2,2,1,2,1,2,2,2,2,1,2,3,2,2,2,1,3,1,1,1,1,2,2,2,2,2,2,2,1,2,2,2,2,2,2,1,2,2,2,2,3,2,1,1,2,2,2,2,1,2,1,2,2,2,2,2,2,1,1,4,1,1,3,2,2,1,2,2,1,2,1,2,2,3,2,3,2,2,3,2,2,2,2,3,4,2,3,2,2,2,1,1,2,3,2,1,2,2,3,2,2,2,3,1,1,2,3,2,1,2,2,2,2,1,1,1,1,2,1,3,2,1,2,3,2,1,1,4,2,3,1,2,2,1,4,3,2,2,2,1,1,2,2,2,3,2,2,2,2,4,1,2,4,4,2,3,2,1,2,1,2,3,2,2,2,2,2,1,2,2,3,1,1,2,1,2,2,3,2,1,3,3,2,2,1,2,2,2,2,3,3,2,2,2,3,2,3,1,2,2,3,2,2,2,2,3,2,3,2,1,2,2,2,3,4,2,2,3,2,1,2,2,2,2,2,3,2,2,2,2,3,2,3,3,2,4,4,2,3,1,3,3,2,1,2,2,2,1,2,2,3,1,3,1,2,2,1,2,3,2,2,1,3,2,2,3,3,2,2,3,2,2,2,2,2,2,1,2,2,3,2,2,1,3,2,3,2,3,2,2,2,2,3,2,3,3,3,3,3,1,2,3,3,1,2,3,2,3,2,3,3,2,2,2,2,3,1,1,2,3,2,2,3,1,3,3,3,1,3,1,3,1,4,2,2,4,1,3,2,2,3,2,2,2,1,2,4,1,2,5,1,1,2,3,1,3,2,2,2,3,1,2,2,2,2,3,2,2,3,1,1,2,2,2,2,2,2,3,3,3,2,2,2,2,2,2,3,3,1,2,2,3,2,2,2,3,2,2,5,1,1,2,1,2,3,1,2,1,2,2,2,2,2,4,3,2,3,2,1,2,1,2,2,2,3,2,2,2,2,1,2,2,3,3,1,3,2,2,2,1,3,1,2,2,3,3,3,3,2,2,3,2,2,3,5,2,2,1,2,2,1,3,2,3,2,1,3,2,2,2,2,2,2,2,3,1,1,2,2,2,4,2,2,3,2,2,5,1,2,2,1,2,1,2,3,2,2,3,1,2,3,2,3,2,2,1,2,1,3,3,3,2,1,3,2,3,2,2,4,3,1,2,4,2,2,2,2,2,1,3,2,2,2,4,1,2,2,2,2,3,3,1,10,2,2,2,2,2,2,2,1,2,3,3,1,1,1,2,2,3,3,3,2,2,2,3,3,2,2,2,3,2,2,1,3,2,3,1,2,3,2,3,3,2,2,2,2,2,2,3,2,2,2,3,2,2,2,2,5,2,1,2,2,2,3,2,3,2,3,3,2,3,2,1,2,1,2,2,2,2,2,3,3,3,3,2,2,2,1,1,2,3,2,2,2,2,3,2,3,2,2,2,2,3,2,2,2,2,2,2,2,1,1,1,1,1,2,2,2,3,2,1,1,1,2,2,2,2,2,1,2,2,3,2,2,3,1,2,2,3,2,2,2,2,2,2,2,2,2,2,4,2,2,3,3,3,1,1,2,2,2,3,2,2,2,2,2,7,2,2,2,1,3,1,2,2,2,1,2,2,2,3,2,2,3,3,3,2,2,2,3,3,2,1,1,1,2,3,1,2,2,3,1,2,2,2,2,3,2,2,3,1,2,2,2,3,3,1,2,2,2,2,2,2,2,2,6,3,3,2,2,3,1,3,2,5,2,2,2,2,2,1,4,3,1,1,2,2,1,2,3,3,2,1,1,2,2,2,1,3,1,2,2,1,2,2,2,2,3,2,2,1,2,2,6,1,3,1,1,2,2,3,3,2,2,2,2,3,1,2,2,4,3,2,4,2,4,2,2,2,1,2,1,1,2,2,2,3,1,1,2,2,2,2,3,2,3,2,3,2,3,2,1,2,1,3,3,1,2,1,1,2,1,1,2,7,1,2,1,3,3,2,2,2,1,2,3,3,1,3,2,3,3,3,2,3,1,1,2,1,6,2,2,3,2,2,1,2,2,2,4,3,2,1,2,3,2,2,1,1,2,2,2,3,2,1,2,2,2,2,2,2,3,2,1,2,2,2,3,2,2,2,2,1,2,2,2,3,3,3,1,2,3,3,3,3,2,3,2,2,5,1,1,2,1,3,2,2,2,2,2,2,2,3,1,1,1,1,2,2,1,1,4,1,2,2,2,2,2,1,1,2,4,1,1,1,3,2,2,2,2,3,2,2,1,6,2,1,2,1,3,1,2,2,2,1,3,3,1,1,2,2,2,1,2,2,5,3,3,2,2,2,3,2,2,2,2,2,2,2,2,1,2,2,2,2,1,2,3,2,2,2,1,5,2,3,2,1,1,2,2,1,2,1,2,2,1,2,2,3,2,2,2,5,3,2,3,2,1,1,2,1,1,2,4,3,2,2,2,1,1,3,2,3,3,2,2,2,2,3,3,2,2],\"xaxis\":\"x\",\"y\":[10000,20000,17000,10000,7500,7000,10000,5000,26000,10000,25000,5000,6500,5500,8500,40000,6000,10000,11000,6000,7900,9000,4000,6500,8000,7000,5300,6000,8500,12500,7500,15000,6000,5000,22000,15000,12500,7000,21000,10000,7200,12000,5000,8500,6000,10000,4600,12000,30000,15000,7500,7500,5000,15000,11000,7000,6000,6000,7000,8500,5000,30000,10000,30000,3500,8000,5000,7500,6500,7500,7500,16000,16000,6500,40000,12500,5500,5000,6500,8000,14500,8200,15000,20000,6700,10000,7000,22000,6500,8500,18000,12000,9000,6000,20000,5000,12000,10000,18000,15000,22000,35000,21000,25000,16000,6000,14000,8000,8000,6000,8000,6000,20000,12000,15000,14000,5000,7000,3900,14000,6300,13000,6800,8000,10000,18000,8000,8000,4700,4700,4500,6000,16000,4700,14000,9000,5000,17500,8500,15000,12500,13000,8000,8000,8000,7000,2200,8000,5500,20000,7000,3500,5000,20000,7000,10000,7000,12000,14500,6000,9500,10000,3500,9000,40000,16500,8000,12000,6500,40000,5000,9000,7000,18000,9000,5500,7500,4000,10500,15000,15000,50000,12000,11000,12000,8000,18000,8000,7000,6500,13000,9000,10000,12000,5000,6000,5200,15000,9000,24000,5500,10000,15000,4700,5000,5000,15000,5000,6000,18000,8000,13000,7500,12000,11000,6000,20000,7000,30000,7500,6500,3000,5200,25000,12500,8500,3500,7000,3000,14000,18000,3500,16000,35000,21000,4500,15000,4500,5500,8500,5000,8500,9000,7500,7000,15000,7000,10000,7000,3200,6000,12000,6000,10000,12000,8000,5300,5000,8500,22000,7000,25000,7000,15000,6000,8000,40000,6000,15000,6500,8000,5500,9000,6000,15000,30000,30000,5000,15000,6500,4500,7000,6500,17500,10000,1500,25000,12000,7500,7000,3500,10000,14000,15000,6500,10000,10500,10000,5000,9000,20000,35000,15000,20000,12000,8000,3000,20000,9000,13000,7000,9000,9000,10000,15000,7000,8000,8000,5000,14000,5000,5000,12000,3200,8500,16000,14000,8000,7000,8000,3000,3800,6500,20000,30000,8000,14000,7200,7000,7000,7500,8500,12000,8500,9500,7500,12000,20000,8500,20000,6000,5500,7000,7000,6500,10000,5200,13000,7000,12000,15000,5000,8000,8000,5000,10000,12000,8000,21000,5000,9000,8000,7000,35000,15000,6200,9900,7000,5000,6500,40000,40000,12000,6500,10000,15000,5000,7000,6000,15000,10000,22000,8500,35000,7000,8500,6000,35000,6000,8000,5000,6000,15000,9000,5000,8000,35000,5500,35000,11000,10000,6500,6000,36125,6800,8500,5000,6500,6500,4500,6000,10000,12000,12000,12000,9000,5000,6000,5500,5500,8500,5000,23000,5500,8500,22000,5500,7000,5000,5000,6500,8000,5500,6000,5500,10000,10000,10000,12000,5200,4000,30000,5146,12000,7000,8500,7000,9500,8000,15000,22500,12500,34000,14000,9500,7000,20000,6500,7500,6500,9500,1800,7500,10000,15000,7000,6000,14000,22000,18000,10000,6000,10000,10000,5000,10000,7000,10000,6000,18000,8000,8000,13000,20000,6000,12000,10000,14000,10000,10500,6000,12000,14000,3700,40000,25000,2200,3300,5000,60000,6000,7000,5000,11000,10000,22000,65000,7500,45000,5000,12000,25000,18000,25000,25000,70000,45000,75000,14000,60000,16000,16000,22000,130000,33000,32000,30000,49000,28000,33500,85000,35000,16000,16000,21000,150000,22000,100000,60000,8000,20000,20000,25000,14000,19411,23000,16000,32000,68000,30000,110000,44000,20000,25000,40000,43000,44000,75000,32000,16000,65000,45000,57000,27000,57000,55000,40000,95000,85000,16000,80000,13000,28000,89000,28000,13000,24000,38000,32000,16000,40000,150000,45000,16000,30000,16000,75000,47000,14000,55000,120000,16000,70000,150000,62000,42000,130000,16000,20000,41000,65000,50000,85000,50000,30000,120000,60000,110000,84500,80000,50000,40000,34000,16000,25000,150000,85000,16000,40000,50000,38000,16000,50000,65000,16000,150000,32000,26000,60000,16000,100000,35000,68000,150000,18000,55000,65000,80000,53000,80000,18000,16000,17500,43000,13500,18000,75000,18000,16000,32000,55000,47000,35000,15000,50000,25500,16000,55000,25000,50000,65000,50000,65000,16000,25000,32000,21000,20000,55000,32000,150000,30000,150000,27000,47000,150000,27000,16000,100000,45002,48000,18000,7500,50000,55000,26000,17000,40000,43000,140000,140000,120000,16000,21000,40000,40000,16000,20000,60000,35000,16000,6500,15000,38000,35000,32000,16000,33000,8500,60000,20000,38000,100000,65000,80000,85000,16000,150000,130000,55000,23000,95000,40000,16000,25000,140000,55000,46000,22000,55100,65000,33000,16000,33000,25000,16000,100000,33000,35000,130000,80000,10000,92500,57000,16000,29999,42000,16000,24000,35000,14000,45000,36000,53500,80000,7500,140000,95000,130000,45000,110000,120000,60000,120000,40000,50000,36000,150000,16000,25000,16000,61000,70000,42000,27000,60000,85000,75000,16000,16000,16000,55000,16000,18000,19000,150000,18500,35000,16000,150000,70000,35000,45000,30000,50000,50000,42000,19500,90000,60000,55000,40000,40000,36000,45000,100000,42000,45000,40000,50000,11000,50000,34000,93000,69999,48000,55000,16000,40000,130000,75000,23000,16000,55000,80000,16000,40000,35000,33003,16000,65000,45000,16000,55000,56000,55000,28000,150000,16000,50000,16000,16000,8000,75000,83000,32000,39000,150000,16000,16000,25000,90000,95000,30000,18500,18000,75000,150000,100000,16000,45000,16000,20000,85000,130000,40000,16000,15000,40000,48000,15000,28000,25000,34000,75000,45000,35000,32000,17000,16000,35000,8500,80000,55000,25000,40000,15500,45000,16000,51000,60000,36000,16000,75000,8000,50000,100000,16500,4500,34000,32000,50000,24000,62000,100000,21000,27000,10000,90000,8000,75000,16000,15000,16000,62000,43500,62000,16000,77500,30000,110000,20000,150000,55000,70000,65000,16000,18000,48000,10000,32000,32000,36000,22000,5500,15000,40000,28000,11000,40000,45000,16000,16000,36000,59000,40000,40000,72000,40000,16000,50000,24000,65000,33000,27000,52000,95000,68000,48000,32000,42000,60000,51500,130000,25000,85000,98000,100000,65000,23000,40000,45000,40000,23500,16000,110000,150000,22000,150000,75000,41000,150000,150000,53000,140000,16000,65000,48000,75000,39000,70000,16000,25000,45000,16000,140000,35000,60000,15000,39000,16000,84000,68000,26000,42000,35000,44000,60000,45000,16000,65000,20000,75000,16000,140000,45000,9400,100000,65000,16000,16000,16000,120000,20000,130000,16000,75000,16000,100000,55000,70000,30000,16000,75000,14000,130000,40000,46000,27000,95000,94000,40000,150000,30000,95000,130000,14000,100000,35000,57000,45000,11000,50000,35000,100000,130000,52000,28000,18000,30000,45000,130000,58000,65000,24000,54500,70000,67000,75000,45000,98000,16000,95000,40000,16000,80000,16000,16000,44000,16000,65000,50000,6000,16000,46000,35000,75000,20000,25000,110000,29500,53000,85000,26000,33000,16000,70000,17000,37000,27000,35500,24000,16000,16000,18500,16000,70000,55000,24000,55000,150000,50000,16000,90100,57000,40000,80000,95000,14000,50000,43000,55000,35000,33000,47000,75000,45000,36000,40000,40000,32000,17000,77000,16000,35000,40000,16000,47000,50000,32000,8000,16000,85000,65000,75000,26500,45000,95000,38000,16000,16000,16000,40000,16000,85000,110000,40000,45000,52000,90000,140000,150000,65000,50000,54000,16000,60000,65000,35000,43000,20000,57000,130000,25000,56000,55000,18000,100000,76000,16000,45000,39000,12500,35000,55000,90000,16000,25000,90000,120000,55000,70000,16000,25000,35000,120000,27000,25000,150000,32000,40000,52000,80000,55000,30000,20000,85000,40000,21000,43000,58000,130000,16000,46000,6500,21000,46000,60000,65000,15000,130000,90000,62000,16000,80000,80000,55000,100000,16000,100000,79500,84500,100000,13000,100000,35000,72000,16000,26000,72000,8000,130000,52000,13000,45000,16000,63000,7500,30000,28500,100000,16000,38000,26000,70000,41000,27000,53000,65000,85000,6000,43000,65000,16000,98000,16000,65000,85000,40000,23000,55000,15000,52000,13000,95000,25000,21000,16000,60000,19000,140000,30000,130000,80000,85000,65000,33000,36000,22000,17000,55000,66000,140000,16000,32000,45000,50000,18500,51000,140000,80000,30000,85000,15000,50000,60000,23000,14500,40000,16000,80000,55000,12000,45000,90000,43000,22000,20000,26000,16000,34999,35000,50000,16000,55000,39000,100000,25000,25000,49500,21000,110000,21000,46700,16000,16000,18000,80000,88000,90000,38000,20000,140000,78000,21000,95000,90000,34000,55000,52000,74999,75000,45000,22000,32000,34000,16000,23000,20000,16000,90000,55000,15000,22000,60000,49000,34000,24000,16000,69000,120000,32000,24000,100000,16000,45000,80000,37000,16000,16000,25000,16000,16000,16000,26000,27000,26000,60000,12000,16000,30000,100000,140000,70000,20000,22000,32000,20000,50000,29000,45000,6500,55000,69999,18500,50000,45000,85000,85000,25000,75000,16000,20000,30000,75000,16000,70000,32000,22000,35000,47000,16000,31000,60000,58000,85000,45000,7500,16000,150000,80000,75000,66000,45000,22000,65000,55000,55000,36000,16000,22000,16000,34000,45000,14000,75000,7000,55000,55000,16000,140000,42000,27000,60000,17000,30000,45000,90000,25000,70000,90000,110000,20000,35000,80000,54500,16000,45000,38000,90000,22000,70000,16000,50000,16000,140000,40000,32000,78000,16000,45000,65000,65000,35000,90000,16000,70000,10500,13000,17000,21000,10000,61500,13000,7500,17000,25000,10500,8000,9500,50000,13000,13500,13000,15000,15000,7000,25000,17000,7500,15000,7500,25000,54000,14500,4500,10500,5500,16000,7000,12500,10000,18000,28000,12000,13000,50000,7000,30000,10000,15000,7500,45000,65000,12000,7000,9000,23000,30000,8000,16000,7500,20000,110000,30000,20000,84000,17000,15000,6000,16000,9500,8000,15000,12000,10000,16000,11000,11000,20000,24000,14500,4000,12000,8500,9000,16000,10500,12000,32000,15000,21000,12000,7000,15000,11400,15000,19000,27000,48000,7000,15000,10000,7000,9000,8000,35000,16000,4500,16000,10000,8000,6000,13000,10000,55000,15000,12000,9000,36000,37000,6000,17000,8000,7500,9500,13500,9000,7000,12000,100000,12000,8500,18000,11000,18000,17000,6500,11500,22000,13000,20000,10000,15000,8000,12000,20000,20000,8000,11000,40000,10000,30000,8000,15000,12000,12000,20000,13000,17500,8000,8500,7500,22000,6000,32900,15000,10000,10000,21000,63000,6900,14000,14500,6500,13000,8000,18000,20000,14000,50000,14500,15000,11500,15000,12000,18000,15000,12000,25000,150000,10000,8000,40000,12000,16000,23000,25000,7000,17500,10000,39000,22000,18000,23000,20000,10000,15000,17000,56000,43000,25000,9000,31000,6000,5000,16000,20000,28000,18000,12000,20000,25000,35000,7000,7500,14000,20000,16000,21000,15000,5500,10000,7000,11500,22000,19000,15000,10500,12000,7000,15000,23000,6500,29000,12000,10000,12500,32000,8000,10500,6000,16000,45000,6000,5000,14000,20000,11000,5500,55000,15000,8500,15000,12000,7500,16000,20000,14500,6000,14000,7000,27500,18000,10000,31000,15000,11000,4500,10000,10000,9000,16000,5000,10000,15000,3500,16000,17000,30000,12000,9000,6000,20000,30000,20000,15000,20000,25000,9000,17000,16500,7000,30000,8500,8000,20000,30000,120000,7000,10000,5000,30000,6500,10000,18000,30000,20000,16500,15000,130000,15000,70000,22000,9750,23000,12000,60000,11000,12000,11000,19000,10000,7500,55000,11000,50000,13500,16500,120000,7000,10000,7000,18000,11000,9000,60000,16000,12500,16000,30000,17000,8000,16500,13000,12000,17000,15000,35000,13000,12000,10000,9000,6000,8900,40000,24000,18500,16000,8000,15000,27000,17000,50000,14000,5000,8000,20000,15000,20000,11000,8500,22500,15000,11000,11000,9000,120000,15000,7000,5000,18000,45000,21000,10000,15000,11000,7500,22000,17000,6000,20000,18000,13000,38000,36000,7500,9000,18000,6500,6000,18000,12000,75000,25000,20000,8000,11000,65000,6000,16000,11000,20000,5500,12000,21500,9300,6000,13000,7000,14000,14000,6000,12500,7000,13000,20000,24000,6000,15000,20000,17000,35000,22000,18000,120000,10000,8000,9500,9000,31000,14000,7000,24000,8000,22000,12000,5000,6000,30000,12000,15000,14000,22000,40000,12000,15000,9500,15000,15000,10000,15000,7000,10000,26969,8000,52000,30000,6500,22000,10000,6000,13000,18000,30000,10000,15000,70000,19000,20000,9000,5000,27500,16000,12000,75000,20000,7000,11000,13500,17000,55000,13000,11000,16000,23500,8500,30000,22000,15000,15000,10000,12500,24000,32000,19000,9000,5500,15000,14000,27000,14000,43000,30000,50000,15000,25000,25500,6000,5000,10000,15000,5000,17000,14000,35000,35000,16000,130000,35000,10000,12000,10500,8000,15000,25000,9000,30000,22000,14000,12000,10000,25000,25000,16000,60000,7000,21000,16000,19000,42500,11000,18000,4300,9000,7000,15000,4800,15000,18000,22500,9500,12000,9000,25000,9000,11000,12500,21000,17681,28000,30000,25000,13000,8000,35000,8000,10000,11500,140000,6000,11000,4000,14000,24000,11000,10000,62000,12000,18000,17500,6500,16000,30000,28000,6500,9000,8500,20000,26000,8000,8500,12500,8000,52000,18000,15000,12000,100000,6000,12000,6500,13500,10000,8500,32000,42000,7500,16000,5000,14000,60000,8500,10000,8500,15000,9500,25000,14000,20000,10000,10000,13000,13000,24000,10000,8000,6000,21000,25000,8500,13000,5000,7500,13900,15000,30000,13000,7700,25000,17000,39000,18000,15000,28000,17500,75000,14000,9000,20000,12000,12000,24000,12000,10000,24000,9000,12000,11000,15000,5500,18000,42000,18000,15000,6000,30000,12000,10000,9500,16000,9500,6500,13500,25000,9500,16000,90000,24000,15000,22000,34000,12500,28000,12000,8000,7500,34000,32000,14500,16000,7500,7500,19500,75000,16500,14500,16000,8000,16000,21000,30000,65000,16000,10000,12000,9000,22000,10000,48000,11000,11000,40000,10000,6500,18000,22000,28000,6200,110000,5500,50000,12000,11500,16000,11000,150000,9000,6000,12000,16000,35000,9000,8000,13500,14000,14000,4700,17000,11000,12000,30000,12000,21000,6000,18500,4750,15000,17600,35000,8000,7000,15000,30000,100000,18000,8000,9000,6000,7500,15000,10000,14000,7000,60000,6000,17000,15000,8200,8500,20000,8000,20000,11500,30000,22000,6500,6500,16000,24000,15000,18000,8500,4000,5000,22000,12000,9000,7500,30000,14000,9250,13000,12000,12000,10000,60000,35000,12000,14000,8000,11000,20000,12500,35000,26000,85000,14000,22000,7000,16000,11000,20000,60000,5000,4000,15000,18000,12000,8500,11000,42000,25000,8500,12500,18000,6000,9000,54000,22000,120000,7000,28000,55000,19000,11000,18000,70000,12000,18000,30000,10000,6000,4500,8000,20000,17500,22000,17000,22000,24000,12000,4500,5000,6000,11000,20000,35000,24000,10000,16000,100000,14000,7500,16000,65000,18000,8000,11000,8000,13000,30000,14000,20000,80000,9500,14000,65000,18500,40000,90000,3500,25000,9000,90000,22000,12000,11000,20000,16000,11000,10000,60000,16000,16000,16000,12000,8000,14000,14900,15000,10000,40000,9000,7000,13500,95000,20000,7500,9000,80000,50000,13000,12000,16000,13000,29000,18000,8500,27000,18000,11500,80000,15500,55000,20000,35000,38000,16000,50000,9500,90000,10000,25000,30000,12000,16500,4500,30000,12000,23000,70000,5500,35000,9000,22000,35000,12000,6000,22000,5000,20500,7500,5500,25000,13000,5000,40000,12500,6000,15500,75000,36000,13000,45000,2000,28000,9000,12000,13000,11000,35000,10000,20000,25000,8000,150000,36000,12000,8500,17000,7500,16000,9000,8000,45000,27000,14000,14000,14000,7500,10000,7000,25000,9000,22000,10000,11000,12500,15000,35000,35000,52000,15000,32000,11500,45000,16000,20000,7000,85000,15000,22000,32000,20000,35000,35000,65000,15000,12000,8000,11000,12000,140000,24000,20000,16000,15000,28500,30000,16000,80000,11000,21000,10500,15000,16000,45000,6000,40000,36000,12000,45000,20000,10000,5000,8000,13000,15000,7500,6000,100000,12000,10000,10000,12000,15000,10000,12000,14500,18500,24000,11000,52000,70000,12000,22000,16000,20000,45000,8000,8000,9500,25000,12000,24000,27000,18000,17000,15000,13000,70000,14000,32000,4000,100000,20000,30000,150000,19500,18000,25000,18000,10000,12000,25000,40000,30000,29000,35000,21000,31000,8000,15500,32000,30000,42000,20500,60000,95000,16000,8500,14000,140000,8000,12500,14000,6000,10000,15000,8000,10000,8500,25000,13000,6000,7000,22000,40000,22000,4500,15000,130000,23000,45000,15000,13000,10000,10000,6500,7000,7000,17401,5500,20000,7000,16000,13000,60000,17000,16000,9500,5000,27000,29000,29000,37000,36000,35000,42000,37000,30000,20000,8500,11000,14000,55000,25000,20500,28000,5000,35000,30000,10000,11000,17000,35000,30000,30000,13000,13000,11000,13000,33000,25000,70000,30000,9000,14500,50000,20000,15000,7500,13500,14000,18000,14000,65000,22000,4000,10000,7500,17000,18000,70000,10000,15000,16500,100000,7500,6000,18000,18000,8000,14000,11000,25000,9000,47000,20000,6000,5000,20000,10000,15000,13500,5500,14000,18000,20000,9300,80000,7500,30000,13000,8500,44300,45000,30000,40000,16000,12000,13500,30000,9500,16000,30000,9000,13000,7000,18000,3500,65000,19000,23000,12000,15000,38000,50000,6500,35000,15000,30000,10000,18000,30000,16000,22000,9000,20200,19500,21000,20000,13000,6500,25000,20000,33000,18000,13000,10000,10000,23000,20000,150000,25000,21000,30000,22000,14000,7000,18500,8500,8000,10000,15000,37000,90000,12000,13000,22000,4000,12000,9000,14000,15000,12500,30000,9500,15000,12000,8000,70000,16000,31500,30000,60000,35000,55000,20000,6500,17000,9300,7500,20000,18000,15000,13000,20000,12000,40000,8000,95000,68000,18000,130000,150000,75000,110000,150000,10000,24000,28000,28000,18000,27000,17000,16000,25000,16500,14000,18000,10000,10000,100000,25000,22999,6000,40000,16000,13000,14000,20000,5500,32000,8000,25000,28000,22000,21000,30000,12000,15000,18000,18000,10000,16000,20000,28000,7000,30000,15000,8000,9000,33500,9500,10000,20000,10000,15000,55000,20000,16000,23000,150000,25000,9000,11000,11500,16000,23000,30000,110000,3500,12100,19000,40000,8000,42000,13000,44000,11000,40000,150000,13000,17500,14500,24000,30000,10000,10000,90000,16000,32000,80000,5500,6000,30000,42000,5500,7000,10000,17000,18000,14000,17000,27000,25000,23000,24500,10000,35000,27000,7000,5000,5000,12000,30000,25000,6000,45000,40000,8500,16500,100000,52000,12500,14000,15000,5000,40000,17000,15000,6000,85000,18000,7500,10000,9000,24000,12000,10500,31000,9000,9000,27000,12500,15000,6500,90000,16000,15000,15000,7600,29000,20000,12000,10500,29000,26000,25000,10000,14000,6000,40000,23000,10000,10000,15000,11000,20000,15000,22000,6000,20000,6500,12000,27000,15000,20000,22000,7000,7000,6500,9000,4500,12000,18000,8000,5000,14000,6500,10000,13000,11200,8900,12000,45000,35000,34999,11000,150000,15000,15000,10000,12000,10000,35000,40000,24000,12000,30000,10000,15000,33000,9000,30000,13000,15000,12000,20000,36000,10000,16000,6000,22000,6000,6500,3000,27000,8000,12500,11000,40000,15000,8000,34000,7500,14000,15000,21000,12000,75000,15000,6000,20500,13500,10000,15000,11000,12000,15000,20000,24000,16000,10000,30000,26000,10000,15000,9000,9000,15000,12000,20000,15000,8000,13000,6800,9000,14000,55000,50000,8000,16000,15000,15000,15000,75000,9000,6500,17000,49000,15000,25000,40000,8000,17500,11000,8500,11000,12500,90000,14000,150000,25000,18000,17000,8500,15000,22000,15000,10000,5000,10000,15000,34500,8000,16000,22000,13000,6500,18000,30000,8500,20000,12000,18000,19000,12000,16000,5700,15000,11000,17000,18000,9500,12000,8000,12000,16000,8000,10000,15000,7500,30000,16000,14000,10000,25000,11500,11000,10000,7000,18000,7500,7500,12000,12000,40000,5000,20000,6500,12000,12000,14000,13000,9000,10000,15000,15000,19000,15000,16000,12000,11000,8000,10000,70000,45000,60000,12000,80000,23999,23000,16000,14000,13000,14000,7000,3500,12000,8000,25000,12000,7000,20000,18000,15000,11000,65000,75000,15000,12000,8500,38000,30000,9000,25000,9000,8500,7000,25000,8500,6500,7000,4500,22000,10000,16000,85000,15000,25000,9000,20000,15000,9000,14000,15000,14000,8000,13500,12000,7500,20000,11000,11000,17500,8000,25000,12000,5250,25000,14000,24000,35000,8000,16000,28000,16000,13000,35000,11000,5000,23000,11000,25000,4500,100000,47500,7500,16500,18000,7000,8000,10000,7000,35000,100000,13000,10000,14000,46000,65000,9000,13500,29000,23999,26000,8200,15000,10000,20000,15000,14000,11000,6500,26000,7500,14500,16000,12000,45000,22000,7000,7000,45000,20000,14000,18000,20000,10000,25000,18000,5000,12000,13000,30000,9000,12000,30000,20000,12000,9500,22000,23000,9500,13500,12000,33000,33000,18999,18000,8500,20000,9000,7000,53000,14000,21000,16000,26000,20000,25000,10000,11500,15000,4200,9500,8000,16000,12000,12000,12000,13000,15723,6000,10000,3000,7500,18000,16500,35000,15000,7000,38000,20000,7500,12500,16000,16000,8500,30000,16000,5700,18000,15000,7500,9000,13000,25000,130000,13000,20000,18000,8000,16000,18000,19000,7500,15000,19000,10000,45000,20000,7500,14000,5000,20000,15000,75000,30000,30000,12500,24000,10000,12000,45000,10500,6250,6000,7500,6300,7000,14000,10000,30000,16000,22000,14000,18000,10500,6000,20000,90000,13500,7000,12500,15000,14000,28000,9500,16000,120000,20000,21000,22000,120000,15000,5000,15000,19000,37500,8000,45000,5000,30000,17000,15000,3500,25000,17000,50000,22000,12000,10000,10000,26000,9000,12000,8500,7000,12000,12000,26000,13000,30000,30000,12000,10000,13000,13000,40000,25000,8000,6000,17000,17000,15000,8500,8500,11000,60000,18000,70000,10000,20000,16000,10000,100000,7000,17000,17000,39000,6500,15000,17000,6800,110000,8500,65000,7500,10000,34000,17000,23000,17000,8500,10000,8000,30000,15000,25000,16500,40000,15000,12000,35000,8000,11000,20000,17000,9000,16500,12000,12500,25000,15000,14000,72000,10000,17000,12000,72000,26000,10500,15000,8500,10000,10000,25000,10000,13000,16000,5000,9500,18000,24000,6166,20000,13000,8000,18000,20000,14000,15000,25000,26000,9000,15000,15000,130000,7500,9500,60000,7000,23000,18000,18000,6000,13000,15000,10000,22000,10000,6500,7000,18000,7000,22000,7000,15000,8000,7000,9000,9800,14500,15000,22000,9000,18000,8500,6500,40000,17000,12000,30000,4000,14000,25000,8000,12500,100000,14000,7500,17500,27000,16500,12000,45000,15000,14000,17000,34999,7000,10500,15000,10000,7000,16000,12000,10000,15000,19000,25000,10000,13000,12500,10000,16000,11000,13000,15000,15000,20000,12000,16000,11000,10000,30000,8000,7000,10000,9300,10500,16000,20000,9000,18000,10000,16000,13500,16000,8500,15000,8200,20000,9000,13500,26000,11000,18000,10000,40000,24000,18000,11000,23000,11000,8000,15000,9500,13500,11000,13000,25000,12000,25000,8500,8500,5000,8500,100000,7500,7000,26000,12000,18000,13000,16000,8000,6000,12500,6500,10000,12500,22000,17000,20000,22000,11500,23000,19000,45000,17000,9500,45000,60000,12000,40000,16000,9000,35000,4000,11000,9500,25000,10000,12000,19397,12000,10000,20000,15000,28000,10000,3500,8000,13500,36000,15000,5000,10000,10000,8500,11000,8000,12000,5000,7000,15000,10000,37500,7000,6500,16000,34000,11500,15000,8000,16000,22000,85000,6000,14000,11500,6000,24000,32000,16000,13000,14000,7500,10000,18500,12000,17000,35000,9000,13000,27999,11000,140000,12000,13000,16000,80000,22999,36000,70000,12500,18000,10000,18000,37000,18000,25000,10000,15000,15000,9000,14000,8500,35000,10000,5000,23000,15000,18500,28000,32000,14000,7000,33000,100000,18000,16000,8500,10000,13500,19000,11500,22000,12000,10000,15000,35000,70000,32000,35000,10000,11000,12000,40000,8000,20000,12000,15000,27000,13000,9000,25000,12000,18000,9500,14000,40000,70000,15000,8500,27500,15000,5000,26000,14000,20000,12000,17000,75000,19500,10000,32000,15000,28000,10677,50000,32500,23000,75000,16000,10000,60000,12000,48000,58000,14000,7000,13000,11000,9500,7500,14000,16000,18000,8200,12000,10000,13000,22000,10500,11000,20000,14000,12500,10500,30000,11000,9000,35000,23382,9500,9000,60000,11000,11000,11000,8000,9000,8000,5500,12000,25000,23000,12000,6500,9000,25000,12500,45000,27000,75000,9000,12000,24000,15000,24000,12000,27000,30000,20000,22000,25000,23000,12000,18000,55000,5000,13000,9000,7000,28000,15000,14000,45000,12000,12500,13000,9500,35000,4000,8000,12500,65000,13000,12500,45000,6000,50000,40000,30000,7000,25000,9000,16000,10500,100000,9000,11000,24000,12000,20000,24000,12000,12000,10000,45000,22000,6500,40000,16000,4000,12000,27000,10000,10000,10000,18000,14500,9000,14000,18000,9500,49000,9000,130000,8000,13000,18000,18000,32000,15000,35000,6000,9000,9500,12500,25000,15000,38000,20000,15000,130000,27000,16000,13000,10000,10000,17000,12500,25000,35000,12000,12000,15000,45000,20000,15000,10000,15000,19800,8500,130000,8500,4500,9000,13000,18000,26000,17000,9000,8000,10000,12000,14000,25000,22000,45000,20000,16000,35000,15000,5500,35000,14000,25000,36000,20000,30000,12000,16000,13000,22000,15000,14000,8000,57000,1200,8000,15000,17000,12000,25000,13000,35000,6500,11000,25000,35000,27000,18000,20000,8500,14000,35000,16000,20000,18000,140000,10000,12000,5300,11000,12000,12000,20000,13000,22000,15000,5400,16500,12000,8500,14000,15000,6000,14000,15000,37000,6500,10000,12000,12000,9000,60000,18000,14000,50000,17000,9000,80000,7500,14000,14000,10000,17000,6500,10000,22000,15000,12000,52000,6500,20000,25000,14000,25000,12500,12000,10000,17000,15500,65000,60000,45000,10500,9000,20000,20000,18000,12000,12000,120000,28000,6000,12500,31000,7000,22000,17500,14000,9500,7000,15000,15000,10000,14000,85000,5500,14000,10000,10000,13000,20000,25000,7500,16000,12000,9500,12000,10000,8000,16000,12333,9500,16000,20000,14000,7500,13900,5500,9000,4700,30000,16500,24000,9500,12000,15000,22500,32000,10000,13000,7000,12000,7500,15000,8000,25000,26000,15000,3000,12500,42000,20000,40000,45000,8500,15000,9000,14000,11000,10000,55000,10000,25000,27000,12000,16000,8000,14000,10000,150000,16000,6000,26000,13000,28000,8500,12500,25000,10000,12000,15000,6000,30000,18000,8500,7500,12000,15000,15500,20000,11000,15000,17000,20000,20000,12000,25000,11500,6500,10000,6000,14000,34000,15000,20000,9500,10000,30000,13000,45000,8000,25000,12000,19000,22000,15000,15000,10000,10000,7000,15000,9500,6500,10000,8000,3300,12000,20000,12000,20000,70000,10000,8500,8000,8000,13000,15500,30000,10000,18000,12000,9000,6000,32000,36000,17000,20000,9000,9500,7000,17000,19500,25000,14000,16000,15000,13000,12000,12000,7500,13000,52000,22000,18000,7000,16500,13000,6000,6000,21000,10000,12000,30000,15000,10000,9000,10000,8000,60000,8000,8500,7500,5000,30000,7500,12000,15500,26000,8000,12000,15000,10000,20000,12500,18000,21000,95000,26000,53000,13000,12000,28000,57000,10000,21467,32000,7000,30000,40000,9000,15000,18000,25000,8500,20000,12000,12500,25000,10000,18000,12000,13000,13000,25000,9000,10000,15000,20000,13500,21000,10000,10000,10000,24000,13000,8000,55000,50000,32000,22000,8500,12000,15000,3000,52000,9500,46000,12000,8000,9000,10000,39000,9000,120000,25000,14000,6000,15000,8000,6000,10000,35000,16000,14000,10000,7000,8000,22000,12000,10000,15000,6500,25000,12000,9000,7000,20000,9000,30000,15500,10500,16000,6000,15000,21000,16000,9000,30000,6500,6000,45000,15000,16000,22000,12000,13000,10000,15000,15000,9000,20000,6500,45000,42000,12000,24000,16000,20000,15000,15000,8000,6500,22000,6200,9000,9000,15000,15000,15000,6800,5000,12000,12000,12000,18000,25000,15000,23000,10500,37000,16000,25000,14000,10000,12500,15000,35000,30000,8000,7000,5500,5000,8500,8000,16000,7500,35000,8000,45000,9000,60000,70000,9000,11000,5800,9000,18000,45000,55000,9500,35000,7500,25000,12500,22000,7500,42000,8000,20000,19000,14000,16000,18500,38000,67000,5000,25000,7000,10000,25000,11000,17000,47000,10000,7500,10000,11000,21000,15000,7500,6500,7500,15000,11000,23000,11000,8000,13000,17000,16000,12000,20000,18000,50000,23000,16500,25000,13000,12000,37000,6500,13000,17500,15000,4000,15000,9000,13000,25000,37000,25000,13000,20000,37000,40000,45000,44000,15000,37000,12000,8000,30000,12000,6000,9500,10000,16000,20000,10000,13000,17000,15000,10000,25000,15000,11000,7500,15000,7500,11000,15000,9500,5000,20000,8500,9000,15000,20000,11500,13000,11000,6000,15000,45000,5000,6000,8000,15000,10000,9000,16000,16000,45000,12000,14500,8000,80000,15000,15500,8000,7500,15000,5000,10000,16000,15000,6000,32000,22000,9000,12000,16000,13000,20000,9000,11000,12500,140000,65000,60000,26000,8000,14000,15000,15000,7000,16000,17000,18000,20000,18000,19000,7000,10000,9000,30000,20000,6500,9000,20000,8000,22000,17000,7000,30000,12000,53000,11000,7500,7500,12000,12000,10500,6000,4500,25000,13000,6000,12500,26000,60000,35000,16000,12000,110000,20000,12000,25000,17000,5500,8000,17000,15000,9000,16000,30000,30000,13000,8000,13000,7000,5000,18000,35000,15000,15000,17000,25000,12000,15000,29000,35000,45000,15000],\"yaxis\":\"y\",\"type\":\"scattergl\"}],                        {\"template\":{\"data\":{\"bar\":[{\"error_x\":{\"color\":\"#2a3f5f\"},\"error_y\":{\"color\":\"#2a3f5f\"},\"marker\":{\"line\":{\"color\":\"#E5ECF6\",\"width\":0.5},\"pattern\":{\"fillmode\":\"overlay\",\"size\":10,\"solidity\":0.2}},\"type\":\"bar\"}],\"barpolar\":[{\"marker\":{\"line\":{\"color\":\"#E5ECF6\",\"width\":0.5},\"pattern\":{\"fillmode\":\"overlay\",\"size\":10,\"solidity\":0.2}},\"type\":\"barpolar\"}],\"carpet\":[{\"aaxis\":{\"endlinecolor\":\"#2a3f5f\",\"gridcolor\":\"white\",\"linecolor\":\"white\",\"minorgridcolor\":\"white\",\"startlinecolor\":\"#2a3f5f\"},\"baxis\":{\"endlinecolor\":\"#2a3f5f\",\"gridcolor\":\"white\",\"linecolor\":\"white\",\"minorgridcolor\":\"white\",\"startlinecolor\":\"#2a3f5f\"},\"type\":\"carpet\"}],\"choropleth\":[{\"colorbar\":{\"outlinewidth\":0,\"ticks\":\"\"},\"type\":\"choropleth\"}],\"contour\":[{\"colorbar\":{\"outlinewidth\":0,\"ticks\":\"\"},\"colorscale\":[[0.0,\"#0d0887\"],[0.1111111111111111,\"#46039f\"],[0.2222222222222222,\"#7201a8\"],[0.3333333333333333,\"#9c179e\"],[0.4444444444444444,\"#bd3786\"],[0.5555555555555556,\"#d8576b\"],[0.6666666666666666,\"#ed7953\"],[0.7777777777777778,\"#fb9f3a\"],[0.8888888888888888,\"#fdca26\"],[1.0,\"#f0f921\"]],\"type\":\"contour\"}],\"contourcarpet\":[{\"colorbar\":{\"outlinewidth\":0,\"ticks\":\"\"},\"type\":\"contourcarpet\"}],\"heatmap\":[{\"colorbar\":{\"outlinewidth\":0,\"ticks\":\"\"},\"colorscale\":[[0.0,\"#0d0887\"],[0.1111111111111111,\"#46039f\"],[0.2222222222222222,\"#7201a8\"],[0.3333333333333333,\"#9c179e\"],[0.4444444444444444,\"#bd3786\"],[0.5555555555555556,\"#d8576b\"],[0.6666666666666666,\"#ed7953\"],[0.7777777777777778,\"#fb9f3a\"],[0.8888888888888888,\"#fdca26\"],[1.0,\"#f0f921\"]],\"type\":\"heatmap\"}],\"heatmapgl\":[{\"colorbar\":{\"outlinewidth\":0,\"ticks\":\"\"},\"colorscale\":[[0.0,\"#0d0887\"],[0.1111111111111111,\"#46039f\"],[0.2222222222222222,\"#7201a8\"],[0.3333333333333333,\"#9c179e\"],[0.4444444444444444,\"#bd3786\"],[0.5555555555555556,\"#d8576b\"],[0.6666666666666666,\"#ed7953\"],[0.7777777777777778,\"#fb9f3a\"],[0.8888888888888888,\"#fdca26\"],[1.0,\"#f0f921\"]],\"type\":\"heatmapgl\"}],\"histogram\":[{\"marker\":{\"pattern\":{\"fillmode\":\"overlay\",\"size\":10,\"solidity\":0.2}},\"type\":\"histogram\"}],\"histogram2d\":[{\"colorbar\":{\"outlinewidth\":0,\"ticks\":\"\"},\"colorscale\":[[0.0,\"#0d0887\"],[0.1111111111111111,\"#46039f\"],[0.2222222222222222,\"#7201a8\"],[0.3333333333333333,\"#9c179e\"],[0.4444444444444444,\"#bd3786\"],[0.5555555555555556,\"#d8576b\"],[0.6666666666666666,\"#ed7953\"],[0.7777777777777778,\"#fb9f3a\"],[0.8888888888888888,\"#fdca26\"],[1.0,\"#f0f921\"]],\"type\":\"histogram2d\"}],\"histogram2dcontour\":[{\"colorbar\":{\"outlinewidth\":0,\"ticks\":\"\"},\"colorscale\":[[0.0,\"#0d0887\"],[0.1111111111111111,\"#46039f\"],[0.2222222222222222,\"#7201a8\"],[0.3333333333333333,\"#9c179e\"],[0.4444444444444444,\"#bd3786\"],[0.5555555555555556,\"#d8576b\"],[0.6666666666666666,\"#ed7953\"],[0.7777777777777778,\"#fb9f3a\"],[0.8888888888888888,\"#fdca26\"],[1.0,\"#f0f921\"]],\"type\":\"histogram2dcontour\"}],\"mesh3d\":[{\"colorbar\":{\"outlinewidth\":0,\"ticks\":\"\"},\"type\":\"mesh3d\"}],\"parcoords\":[{\"line\":{\"colorbar\":{\"outlinewidth\":0,\"ticks\":\"\"}},\"type\":\"parcoords\"}],\"pie\":[{\"automargin\":true,\"type\":\"pie\"}],\"scatter\":[{\"marker\":{\"colorbar\":{\"outlinewidth\":0,\"ticks\":\"\"}},\"type\":\"scatter\"}],\"scatter3d\":[{\"line\":{\"colorbar\":{\"outlinewidth\":0,\"ticks\":\"\"}},\"marker\":{\"colorbar\":{\"outlinewidth\":0,\"ticks\":\"\"}},\"type\":\"scatter3d\"}],\"scattercarpet\":[{\"marker\":{\"colorbar\":{\"outlinewidth\":0,\"ticks\":\"\"}},\"type\":\"scattercarpet\"}],\"scattergeo\":[{\"marker\":{\"colorbar\":{\"outlinewidth\":0,\"ticks\":\"\"}},\"type\":\"scattergeo\"}],\"scattergl\":[{\"marker\":{\"colorbar\":{\"outlinewidth\":0,\"ticks\":\"\"}},\"type\":\"scattergl\"}],\"scattermapbox\":[{\"marker\":{\"colorbar\":{\"outlinewidth\":0,\"ticks\":\"\"}},\"type\":\"scattermapbox\"}],\"scatterpolar\":[{\"marker\":{\"colorbar\":{\"outlinewidth\":0,\"ticks\":\"\"}},\"type\":\"scatterpolar\"}],\"scatterpolargl\":[{\"marker\":{\"colorbar\":{\"outlinewidth\":0,\"ticks\":\"\"}},\"type\":\"scatterpolargl\"}],\"scatterternary\":[{\"marker\":{\"colorbar\":{\"outlinewidth\":0,\"ticks\":\"\"}},\"type\":\"scatterternary\"}],\"surface\":[{\"colorbar\":{\"outlinewidth\":0,\"ticks\":\"\"},\"colorscale\":[[0.0,\"#0d0887\"],[0.1111111111111111,\"#46039f\"],[0.2222222222222222,\"#7201a8\"],[0.3333333333333333,\"#9c179e\"],[0.4444444444444444,\"#bd3786\"],[0.5555555555555556,\"#d8576b\"],[0.6666666666666666,\"#ed7953\"],[0.7777777777777778,\"#fb9f3a\"],[0.8888888888888888,\"#fdca26\"],[1.0,\"#f0f921\"]],\"type\":\"surface\"}],\"table\":[{\"cells\":{\"fill\":{\"color\":\"#EBF0F8\"},\"line\":{\"color\":\"white\"}},\"header\":{\"fill\":{\"color\":\"#C8D4E3\"},\"line\":{\"color\":\"white\"}},\"type\":\"table\"}]},\"layout\":{\"annotationdefaults\":{\"arrowcolor\":\"#2a3f5f\",\"arrowhead\":0,\"arrowwidth\":1},\"autotypenumbers\":\"strict\",\"coloraxis\":{\"colorbar\":{\"outlinewidth\":0,\"ticks\":\"\"}},\"colorscale\":{\"diverging\":[[0,\"#8e0152\"],[0.1,\"#c51b7d\"],[0.2,\"#de77ae\"],[0.3,\"#f1b6da\"],[0.4,\"#fde0ef\"],[0.5,\"#f7f7f7\"],[0.6,\"#e6f5d0\"],[0.7,\"#b8e186\"],[0.8,\"#7fbc41\"],[0.9,\"#4d9221\"],[1,\"#276419\"]],\"sequential\":[[0.0,\"#0d0887\"],[0.1111111111111111,\"#46039f\"],[0.2222222222222222,\"#7201a8\"],[0.3333333333333333,\"#9c179e\"],[0.4444444444444444,\"#bd3786\"],[0.5555555555555556,\"#d8576b\"],[0.6666666666666666,\"#ed7953\"],[0.7777777777777778,\"#fb9f3a\"],[0.8888888888888888,\"#fdca26\"],[1.0,\"#f0f921\"]],\"sequentialminus\":[[0.0,\"#0d0887\"],[0.1111111111111111,\"#46039f\"],[0.2222222222222222,\"#7201a8\"],[0.3333333333333333,\"#9c179e\"],[0.4444444444444444,\"#bd3786\"],[0.5555555555555556,\"#d8576b\"],[0.6666666666666666,\"#ed7953\"],[0.7777777777777778,\"#fb9f3a\"],[0.8888888888888888,\"#fdca26\"],[1.0,\"#f0f921\"]]},\"colorway\":[\"#636efa\",\"#EF553B\",\"#00cc96\",\"#ab63fa\",\"#FFA15A\",\"#19d3f3\",\"#FF6692\",\"#B6E880\",\"#FF97FF\",\"#FECB52\"],\"font\":{\"color\":\"#2a3f5f\"},\"geo\":{\"bgcolor\":\"white\",\"lakecolor\":\"white\",\"landcolor\":\"#E5ECF6\",\"showlakes\":true,\"showland\":true,\"subunitcolor\":\"white\"},\"hoverlabel\":{\"align\":\"left\"},\"hovermode\":\"closest\",\"mapbox\":{\"style\":\"light\"},\"paper_bgcolor\":\"white\",\"plot_bgcolor\":\"#E5ECF6\",\"polar\":{\"angularaxis\":{\"gridcolor\":\"white\",\"linecolor\":\"white\",\"ticks\":\"\"},\"bgcolor\":\"#E5ECF6\",\"radialaxis\":{\"gridcolor\":\"white\",\"linecolor\":\"white\",\"ticks\":\"\"}},\"scene\":{\"xaxis\":{\"backgroundcolor\":\"#E5ECF6\",\"gridcolor\":\"white\",\"gridwidth\":2,\"linecolor\":\"white\",\"showbackground\":true,\"ticks\":\"\",\"zerolinecolor\":\"white\"},\"yaxis\":{\"backgroundcolor\":\"#E5ECF6\",\"gridcolor\":\"white\",\"gridwidth\":2,\"linecolor\":\"white\",\"showbackground\":true,\"ticks\":\"\",\"zerolinecolor\":\"white\"},\"zaxis\":{\"backgroundcolor\":\"#E5ECF6\",\"gridcolor\":\"white\",\"gridwidth\":2,\"linecolor\":\"white\",\"showbackground\":true,\"ticks\":\"\",\"zerolinecolor\":\"white\"}},\"shapedefaults\":{\"line\":{\"color\":\"#2a3f5f\"}},\"ternary\":{\"aaxis\":{\"gridcolor\":\"white\",\"linecolor\":\"white\",\"ticks\":\"\"},\"baxis\":{\"gridcolor\":\"white\",\"linecolor\":\"white\",\"ticks\":\"\"},\"bgcolor\":\"#E5ECF6\",\"caxis\":{\"gridcolor\":\"white\",\"linecolor\":\"white\",\"ticks\":\"\"}},\"title\":{\"x\":0.05},\"xaxis\":{\"automargin\":true,\"gridcolor\":\"white\",\"linecolor\":\"white\",\"ticks\":\"\",\"title\":{\"standoff\":15},\"zerolinecolor\":\"white\",\"zerolinewidth\":2},\"yaxis\":{\"automargin\":true,\"gridcolor\":\"white\",\"linecolor\":\"white\",\"ticks\":\"\",\"title\":{\"standoff\":15},\"zerolinecolor\":\"white\",\"zerolinewidth\":2}}},\"xaxis\":{\"anchor\":\"y\",\"domain\":[0.0,1.0],\"title\":{\"text\":\"Bathroom\"}},\"yaxis\":{\"anchor\":\"x\",\"domain\":[0.0,1.0],\"title\":{\"text\":\"Rent\"}},\"legend\":{\"tracegroupgap\":0},\"margin\":{\"t\":60}},                        {\"responsive\": true}                    ).then(function(){\n",
              "                            \n",
              "var gd = document.getElementById('ba2ca06e-5a7c-482c-8dab-5b27f357c7ab');\n",
              "var x = new MutationObserver(function (mutations, observer) {{\n",
              "        var display = window.getComputedStyle(gd).display;\n",
              "        if (!display || display === 'none') {{\n",
              "            console.log([gd, 'removed!']);\n",
              "            Plotly.purge(gd);\n",
              "            observer.disconnect();\n",
              "        }}\n",
              "}});\n",
              "\n",
              "// Listen for the removal of the full notebook cells\n",
              "var notebookContainer = gd.closest('#notebook-container');\n",
              "if (notebookContainer) {{\n",
              "    x.observe(notebookContainer, {childList: true});\n",
              "}}\n",
              "\n",
              "// Listen for the clearing of the current output cell\n",
              "var outputEl = gd.closest('.output');\n",
              "if (outputEl) {{\n",
              "    x.observe(outputEl, {childList: true});\n",
              "}}\n",
              "\n",
              "                        })                };                            </script>        </div>\n",
              "</body>\n",
              "</html>"
            ]
          },
          "metadata": {}
        }
      ]
    },
    {
      "cell_type": "markdown",
      "source": [
        "**Feature Engineering**"
      ],
      "metadata": {
        "id": "dmIlaZxXkEjb"
      }
    },
    {
      "cell_type": "code",
      "source": [
        "dataset = dataset.join(dataset['Floor'].str.split(' out of ', 1, expand=True).rename(columns={0:'Floor Level', 1:'Total Floors'}))\n",
        "dataset['Floor Level'] = dataset.apply(lambda x: 0 if x['Floor Level'] =='Ground' \\\n",
        "                                 else ( -1 if x['Floor Level'] =='Lower Basement' else (x['Total Floors']) ) , axis=1)\n",
        "\n",
        "dataset.drop('Floor', axis=1, inplace=True)\n",
        "dataset = dataset.dropna()\n",
        "dataset['Floor Level'] = dataset['Floor Level'].astype(int)\n",
        "dataset['Total Floors'] = dataset['Total Floors'].astype(int)"
      ],
      "metadata": {
        "colab": {
          "base_uri": "https://localhost:8080/"
        },
        "id": "moZRxAV_kLa0",
        "outputId": "fb7b5351-9d00-4d2c-b3bb-af78f60525e3"
      },
      "execution_count": null,
      "outputs": [
        {
          "output_type": "stream",
          "name": "stderr",
          "text": [
            "/usr/local/lib/python3.7/dist-packages/ipykernel_launcher.py:7: SettingWithCopyWarning: \n",
            "A value is trying to be set on a copy of a slice from a DataFrame.\n",
            "Try using .loc[row_indexer,col_indexer] = value instead\n",
            "\n",
            "See the caveats in the documentation: https://pandas.pydata.org/pandas-docs/stable/user_guide/indexing.html#returning-a-view-versus-a-copy\n",
            "  import sys\n",
            "/usr/local/lib/python3.7/dist-packages/ipykernel_launcher.py:8: SettingWithCopyWarning: \n",
            "A value is trying to be set on a copy of a slice from a DataFrame.\n",
            "Try using .loc[row_indexer,col_indexer] = value instead\n",
            "\n",
            "See the caveats in the documentation: https://pandas.pydata.org/pandas-docs/stable/user_guide/indexing.html#returning-a-view-versus-a-copy\n",
            "  \n"
          ]
        }
      ]
    },
    {
      "cell_type": "code",
      "source": [
        "print(dataset['Point of Contact'].value_counts())\n",
        "print()\n",
        "print(dataset['Area Type'].value_counts())"
      ],
      "metadata": {
        "colab": {
          "base_uri": "https://localhost:8080/"
        },
        "id": "edmbKvTZkZ4u",
        "outputId": "ceef39a6-bf6f-4084-d974-92d61087b042"
      },
      "execution_count": null,
      "outputs": [
        {
          "output_type": "stream",
          "name": "stdout",
          "text": [
            "Contact Owner      3212\n",
            "Contact Agent      1529\n",
            "Contact Builder       1\n",
            "Name: Point of Contact, dtype: int64\n",
            "\n",
            "Super Area     2444\n",
            "Carpet Area    2296\n",
            "Built Area        2\n",
            "Name: Area Type, dtype: int64\n"
          ]
        }
      ]
    },
    {
      "cell_type": "code",
      "source": [
        "dataset = dataset[~dataset['Point of Contact'].str.contains(\"Contact Builder\")]"
      ],
      "metadata": {
        "id": "PgTRxE4ckd-X"
      },
      "execution_count": null,
      "outputs": []
    },
    {
      "cell_type": "code",
      "source": [
        "dataset['month posted'] = dataset['Posted On'].dt.month\n",
        "dataset['day posted'] = dataset['Posted On'].dt.day\n",
        "dataset['day of week posted'] = dataset['Posted On'].dt.day_of_week\n",
        "dataset['quarter poster'] = dataset['Posted On'].dt.quarter\n",
        "\n",
        "dataset.drop('Posted On', axis = 1, inplace= True)"
      ],
      "metadata": {
        "id": "F1IekLvQkiis"
      },
      "execution_count": null,
      "outputs": []
    },
    {
      "cell_type": "markdown",
      "source": [
        "**Encoding**"
      ],
      "metadata": {
        "id": "Y25RLK8bks0x"
      }
    },
    {
      "cell_type": "code",
      "source": [
        "print(dataset.duplicated().sum())\n",
        "dataset = dataset.drop_duplicates()"
      ],
      "metadata": {
        "colab": {
          "base_uri": "https://localhost:8080/"
        },
        "id": "dVZmG6s4kvbH",
        "outputId": "7070a060-17f2-4ee1-b633-ebab6d0d3667"
      },
      "execution_count": null,
      "outputs": [
        {
          "output_type": "stream",
          "name": "stdout",
          "text": [
            "8\n"
          ]
        }
      ]
    },
    {
      "cell_type": "code",
      "source": [
        "def one_hot_encode(dataset, column):\n",
        "    encoded = pd.get_dummies(dataset[column], drop_first= True)\n",
        "    dataset = dataset.drop(column, axis = 1)\n",
        "    dataset = dataset.join(encoded)\n",
        "    return dataset"
      ],
      "metadata": {
        "id": "1h-7Cbb_k1Uk"
      },
      "execution_count": null,
      "outputs": []
    },
    {
      "cell_type": "code",
      "source": [
        "dataset = dataset.drop('Area Locality', axis= 1)"
      ],
      "metadata": {
        "id": "EQdn0GZqk8sH"
      },
      "execution_count": null,
      "outputs": []
    },
    {
      "cell_type": "code",
      "source": [
        "columns = ['Area Type', 'City', 'Furnishing Status', 'Tenant Preferred', 'Point of Contact']\n",
        "for col in columns:\n",
        "    dataset = one_hot_encode(dataset, col)"
      ],
      "metadata": {
        "id": "Q-EyRTnck_5d"
      },
      "execution_count": null,
      "outputs": []
    },
    {
      "cell_type": "code",
      "source": [
        "dataset.head()"
      ],
      "metadata": {
        "colab": {
          "base_uri": "https://localhost:8080/",
          "height": 334
        },
        "id": "g3M-XHGQlEJD",
        "outputId": "b21aa317-b573-4ec9-b497-7b2f03f8fa6a"
      },
      "execution_count": null,
      "outputs": [
        {
          "output_type": "execute_result",
          "data": {
            "text/plain": [
              "   BHK   Rent  Size  Bathroom  Floor Level  Total Floors  month posted  \\\n",
              "0    2  10000  1100         2            0             2             5   \n",
              "1    2  20000   800         1            3             3             5   \n",
              "2    2  17000  1000         1            3             3             5   \n",
              "3    2  10000   800         1            2             2             7   \n",
              "4    2   7500   850         1            2             2             5   \n",
              "\n",
              "   day posted  day of week posted  quarter poster  ...  Chennai  Delhi  \\\n",
              "0          18                   2               2  ...        0      0   \n",
              "1          13                   4               2  ...        0      0   \n",
              "2          16                   0               2  ...        0      0   \n",
              "3           4                   0               3  ...        0      0   \n",
              "4           9                   0               2  ...        0      0   \n",
              "\n",
              "   Hyderabad  Kolkata  Mumbai  Semi-Furnished  Unfurnished  Bachelors/Family  \\\n",
              "0          0        1       0               0            1                 1   \n",
              "1          0        1       0               1            0                 1   \n",
              "2          0        1       0               1            0                 1   \n",
              "3          0        1       0               0            1                 1   \n",
              "4          0        1       0               0            1                 0   \n",
              "\n",
              "   Family  Contact Owner  \n",
              "0       0              1  \n",
              "1       0              1  \n",
              "2       0              1  \n",
              "3       0              1  \n",
              "4       0              1  \n",
              "\n",
              "[5 rows x 22 columns]"
            ],
            "text/html": [
              "\n",
              "  <div id=\"df-9439abe4-68c8-42dc-8a23-db7b35ce0564\">\n",
              "    <div class=\"colab-df-container\">\n",
              "      <div>\n",
              "<style scoped>\n",
              "    .dataframe tbody tr th:only-of-type {\n",
              "        vertical-align: middle;\n",
              "    }\n",
              "\n",
              "    .dataframe tbody tr th {\n",
              "        vertical-align: top;\n",
              "    }\n",
              "\n",
              "    .dataframe thead th {\n",
              "        text-align: right;\n",
              "    }\n",
              "</style>\n",
              "<table border=\"1\" class=\"dataframe\">\n",
              "  <thead>\n",
              "    <tr style=\"text-align: right;\">\n",
              "      <th></th>\n",
              "      <th>BHK</th>\n",
              "      <th>Rent</th>\n",
              "      <th>Size</th>\n",
              "      <th>Bathroom</th>\n",
              "      <th>Floor Level</th>\n",
              "      <th>Total Floors</th>\n",
              "      <th>month posted</th>\n",
              "      <th>day posted</th>\n",
              "      <th>day of week posted</th>\n",
              "      <th>quarter poster</th>\n",
              "      <th>...</th>\n",
              "      <th>Chennai</th>\n",
              "      <th>Delhi</th>\n",
              "      <th>Hyderabad</th>\n",
              "      <th>Kolkata</th>\n",
              "      <th>Mumbai</th>\n",
              "      <th>Semi-Furnished</th>\n",
              "      <th>Unfurnished</th>\n",
              "      <th>Bachelors/Family</th>\n",
              "      <th>Family</th>\n",
              "      <th>Contact Owner</th>\n",
              "    </tr>\n",
              "  </thead>\n",
              "  <tbody>\n",
              "    <tr>\n",
              "      <th>0</th>\n",
              "      <td>2</td>\n",
              "      <td>10000</td>\n",
              "      <td>1100</td>\n",
              "      <td>2</td>\n",
              "      <td>0</td>\n",
              "      <td>2</td>\n",
              "      <td>5</td>\n",
              "      <td>18</td>\n",
              "      <td>2</td>\n",
              "      <td>2</td>\n",
              "      <td>...</td>\n",
              "      <td>0</td>\n",
              "      <td>0</td>\n",
              "      <td>0</td>\n",
              "      <td>1</td>\n",
              "      <td>0</td>\n",
              "      <td>0</td>\n",
              "      <td>1</td>\n",
              "      <td>1</td>\n",
              "      <td>0</td>\n",
              "      <td>1</td>\n",
              "    </tr>\n",
              "    <tr>\n",
              "      <th>1</th>\n",
              "      <td>2</td>\n",
              "      <td>20000</td>\n",
              "      <td>800</td>\n",
              "      <td>1</td>\n",
              "      <td>3</td>\n",
              "      <td>3</td>\n",
              "      <td>5</td>\n",
              "      <td>13</td>\n",
              "      <td>4</td>\n",
              "      <td>2</td>\n",
              "      <td>...</td>\n",
              "      <td>0</td>\n",
              "      <td>0</td>\n",
              "      <td>0</td>\n",
              "      <td>1</td>\n",
              "      <td>0</td>\n",
              "      <td>1</td>\n",
              "      <td>0</td>\n",
              "      <td>1</td>\n",
              "      <td>0</td>\n",
              "      <td>1</td>\n",
              "    </tr>\n",
              "    <tr>\n",
              "      <th>2</th>\n",
              "      <td>2</td>\n",
              "      <td>17000</td>\n",
              "      <td>1000</td>\n",
              "      <td>1</td>\n",
              "      <td>3</td>\n",
              "      <td>3</td>\n",
              "      <td>5</td>\n",
              "      <td>16</td>\n",
              "      <td>0</td>\n",
              "      <td>2</td>\n",
              "      <td>...</td>\n",
              "      <td>0</td>\n",
              "      <td>0</td>\n",
              "      <td>0</td>\n",
              "      <td>1</td>\n",
              "      <td>0</td>\n",
              "      <td>1</td>\n",
              "      <td>0</td>\n",
              "      <td>1</td>\n",
              "      <td>0</td>\n",
              "      <td>1</td>\n",
              "    </tr>\n",
              "    <tr>\n",
              "      <th>3</th>\n",
              "      <td>2</td>\n",
              "      <td>10000</td>\n",
              "      <td>800</td>\n",
              "      <td>1</td>\n",
              "      <td>2</td>\n",
              "      <td>2</td>\n",
              "      <td>7</td>\n",
              "      <td>4</td>\n",
              "      <td>0</td>\n",
              "      <td>3</td>\n",
              "      <td>...</td>\n",
              "      <td>0</td>\n",
              "      <td>0</td>\n",
              "      <td>0</td>\n",
              "      <td>1</td>\n",
              "      <td>0</td>\n",
              "      <td>0</td>\n",
              "      <td>1</td>\n",
              "      <td>1</td>\n",
              "      <td>0</td>\n",
              "      <td>1</td>\n",
              "    </tr>\n",
              "    <tr>\n",
              "      <th>4</th>\n",
              "      <td>2</td>\n",
              "      <td>7500</td>\n",
              "      <td>850</td>\n",
              "      <td>1</td>\n",
              "      <td>2</td>\n",
              "      <td>2</td>\n",
              "      <td>5</td>\n",
              "      <td>9</td>\n",
              "      <td>0</td>\n",
              "      <td>2</td>\n",
              "      <td>...</td>\n",
              "      <td>0</td>\n",
              "      <td>0</td>\n",
              "      <td>0</td>\n",
              "      <td>1</td>\n",
              "      <td>0</td>\n",
              "      <td>0</td>\n",
              "      <td>1</td>\n",
              "      <td>0</td>\n",
              "      <td>0</td>\n",
              "      <td>1</td>\n",
              "    </tr>\n",
              "  </tbody>\n",
              "</table>\n",
              "<p>5 rows × 22 columns</p>\n",
              "</div>\n",
              "      <button class=\"colab-df-convert\" onclick=\"convertToInteractive('df-9439abe4-68c8-42dc-8a23-db7b35ce0564')\"\n",
              "              title=\"Convert this dataframe to an interactive table.\"\n",
              "              style=\"display:none;\">\n",
              "        \n",
              "  <svg xmlns=\"http://www.w3.org/2000/svg\" height=\"24px\"viewBox=\"0 0 24 24\"\n",
              "       width=\"24px\">\n",
              "    <path d=\"M0 0h24v24H0V0z\" fill=\"none\"/>\n",
              "    <path d=\"M18.56 5.44l.94 2.06.94-2.06 2.06-.94-2.06-.94-.94-2.06-.94 2.06-2.06.94zm-11 1L8.5 8.5l.94-2.06 2.06-.94-2.06-.94L8.5 2.5l-.94 2.06-2.06.94zm10 10l.94 2.06.94-2.06 2.06-.94-2.06-.94-.94-2.06-.94 2.06-2.06.94z\"/><path d=\"M17.41 7.96l-1.37-1.37c-.4-.4-.92-.59-1.43-.59-.52 0-1.04.2-1.43.59L10.3 9.45l-7.72 7.72c-.78.78-.78 2.05 0 2.83L4 21.41c.39.39.9.59 1.41.59.51 0 1.02-.2 1.41-.59l7.78-7.78 2.81-2.81c.8-.78.8-2.07 0-2.86zM5.41 20L4 18.59l7.72-7.72 1.47 1.35L5.41 20z\"/>\n",
              "  </svg>\n",
              "      </button>\n",
              "      \n",
              "  <style>\n",
              "    .colab-df-container {\n",
              "      display:flex;\n",
              "      flex-wrap:wrap;\n",
              "      gap: 12px;\n",
              "    }\n",
              "\n",
              "    .colab-df-convert {\n",
              "      background-color: #E8F0FE;\n",
              "      border: none;\n",
              "      border-radius: 50%;\n",
              "      cursor: pointer;\n",
              "      display: none;\n",
              "      fill: #1967D2;\n",
              "      height: 32px;\n",
              "      padding: 0 0 0 0;\n",
              "      width: 32px;\n",
              "    }\n",
              "\n",
              "    .colab-df-convert:hover {\n",
              "      background-color: #E2EBFA;\n",
              "      box-shadow: 0px 1px 2px rgba(60, 64, 67, 0.3), 0px 1px 3px 1px rgba(60, 64, 67, 0.15);\n",
              "      fill: #174EA6;\n",
              "    }\n",
              "\n",
              "    [theme=dark] .colab-df-convert {\n",
              "      background-color: #3B4455;\n",
              "      fill: #D2E3FC;\n",
              "    }\n",
              "\n",
              "    [theme=dark] .colab-df-convert:hover {\n",
              "      background-color: #434B5C;\n",
              "      box-shadow: 0px 1px 3px 1px rgba(0, 0, 0, 0.15);\n",
              "      filter: drop-shadow(0px 1px 2px rgba(0, 0, 0, 0.3));\n",
              "      fill: #FFFFFF;\n",
              "    }\n",
              "  </style>\n",
              "\n",
              "      <script>\n",
              "        const buttonEl =\n",
              "          document.querySelector('#df-9439abe4-68c8-42dc-8a23-db7b35ce0564 button.colab-df-convert');\n",
              "        buttonEl.style.display =\n",
              "          google.colab.kernel.accessAllowed ? 'block' : 'none';\n",
              "\n",
              "        async function convertToInteractive(key) {\n",
              "          const element = document.querySelector('#df-9439abe4-68c8-42dc-8a23-db7b35ce0564');\n",
              "          const dataTable =\n",
              "            await google.colab.kernel.invokeFunction('convertToInteractive',\n",
              "                                                     [key], {});\n",
              "          if (!dataTable) return;\n",
              "\n",
              "          const docLinkHtml = 'Like what you see? Visit the ' +\n",
              "            '<a target=\"_blank\" href=https://colab.research.google.com/notebooks/data_table.ipynb>data table notebook</a>'\n",
              "            + ' to learn more about interactive tables.';\n",
              "          element.innerHTML = '';\n",
              "          dataTable['output_type'] = 'display_data';\n",
              "          await google.colab.output.renderOutput(dataTable, element);\n",
              "          const docLink = document.createElement('div');\n",
              "          docLink.innerHTML = docLinkHtml;\n",
              "          element.appendChild(docLink);\n",
              "        }\n",
              "      </script>\n",
              "    </div>\n",
              "  </div>\n",
              "  "
            ]
          },
          "metadata": {},
          "execution_count": 22
        }
      ]
    },
    {
      "cell_type": "code",
      "source": [
        "X = dataset.drop('Rent', axis= 1)\n",
        "y = dataset['Rent']\n",
        "\n",
        "bc_result = scipy.stats.boxcox(y)\n",
        "y_boxcox = bc_result[0]\n",
        "lambda_ = bc_result[1]\n",
        "\n",
        "X_train, X_test, y_train, y_test = train_test_split(X, y_boxcox, test_size= 0.2, random_state = 42)\n",
        "\n",
        "sc = StandardScaler()\n",
        "X_train = sc.fit_transform(X_train)\n",
        "X_test = sc.transform(X_test)"
      ],
      "metadata": {
        "id": "H2AzvhlBlbIK"
      },
      "execution_count": null,
      "outputs": []
    },
    {
      "cell_type": "code",
      "source": [
        "models = {\n",
        "    'ridge' : Ridge(),\n",
        "    'xgboost' : XGBRegressor(),\n",
        "    'catboost' : CatBoostRegressor(verbose=0),\n",
        "    'lightgbm' : LGBMRegressor(),\n",
        "    'gradient boosting' : GradientBoostingRegressor(),\n",
        "    'lasso' : Lasso(),\n",
        "    'random forest' : RandomForestRegressor(),\n",
        "    'bayesian ridge' : BayesianRidge(),\n",
        "    'support vector': SVR(),\n",
        "    'knn' : KNeighborsRegressor(n_neighbors = 4)\n",
        "}"
      ],
      "metadata": {
        "id": "rXvkyRxaoYFg"
      },
      "execution_count": null,
      "outputs": []
    },
    {
      "cell_type": "code",
      "source": [
        "for name, model in models.items():\n",
        "    model.fit(X_train, y_train)\n",
        "    print(f'{name} trained')"
      ],
      "metadata": {
        "colab": {
          "base_uri": "https://localhost:8080/"
        },
        "id": "q5hBMyMyoagR",
        "outputId": "a83e38a7-0f59-4dd2-bb9c-1dd8fab8c29e"
      },
      "execution_count": null,
      "outputs": [
        {
          "output_type": "stream",
          "name": "stdout",
          "text": [
            "ridge trained\n",
            "[18:24:01] WARNING: /workspace/src/objective/regression_obj.cu:152: reg:linear is now deprecated in favor of reg:squarederror.\n",
            "xgboost trained\n",
            "catboost trained\n",
            "lightgbm trained\n",
            "gradient boosting trained\n",
            "lasso trained\n",
            "random forest trained\n",
            "bayesian ridge trained\n",
            "support vector trained\n",
            "knn trained\n"
          ]
        }
      ]
    },
    {
      "cell_type": "code",
      "source": [
        "model = tf.keras.Sequential()\n",
        "\n",
        "model.add(tf.keras.layers.Dense(20))\n",
        "model.add(tf.keras.layers.Dense(60))\n",
        "model.add(tf.keras.layers.Dense(60))\n",
        "model.add(tf.keras.layers.Dense(60))\n",
        "model.add(tf.keras.layers.Dense(1))\n",
        "\n",
        "model.compile(\n",
        "    loss = 'mse', \n",
        "    optimizer = tf.keras.optimizers.Adam(), \n",
        "    metrics = [tf.keras.metrics.RootMeanSquaredError(name='rmse')]\n",
        ")\n",
        "\n",
        "model.fit(X_train, y_train, validation_data=(X_test, y_test), epochs=5)"
      ],
      "metadata": {
        "colab": {
          "base_uri": "https://localhost:8080/"
        },
        "id": "wnIKQMlqol73",
        "outputId": "9bdaff27-afb6-498d-b2db-8e5c39b639ea"
      },
      "execution_count": null,
      "outputs": [
        {
          "output_type": "stream",
          "name": "stdout",
          "text": [
            "Epoch 1/5\n",
            "119/119 [==============================] - 2s 5ms/step - loss: 3.4791 - rmse: 1.8652 - val_loss: 0.0182 - val_rmse: 0.1351\n",
            "Epoch 2/5\n",
            "119/119 [==============================] - 0s 3ms/step - loss: 0.0069 - rmse: 0.0833 - val_loss: 0.0029 - val_rmse: 0.0535\n",
            "Epoch 3/5\n",
            "119/119 [==============================] - 0s 3ms/step - loss: 0.0024 - rmse: 0.0494 - val_loss: 0.0017 - val_rmse: 0.0415\n",
            "Epoch 4/5\n",
            "119/119 [==============================] - 0s 3ms/step - loss: 0.0021 - rmse: 0.0459 - val_loss: 0.0023 - val_rmse: 0.0480\n",
            "Epoch 5/5\n",
            "119/119 [==============================] - 0s 3ms/step - loss: 0.0026 - rmse: 0.0513 - val_loss: 0.0018 - val_rmse: 0.0421\n"
          ]
        },
        {
          "output_type": "execute_result",
          "data": {
            "text/plain": [
              "<keras.callbacks.History at 0x7f24d21e0cd0>"
            ]
          },
          "metadata": {},
          "execution_count": 33
        }
      ]
    },
    {
      "cell_type": "code",
      "source": [
        "RMSE_ann = model.evaluate(X_test, y_test)[1]\n",
        "RMSE_ann"
      ],
      "metadata": {
        "colab": {
          "base_uri": "https://localhost:8080/"
        },
        "id": "4hgR7DldoqDj",
        "outputId": "4ebb4026-2730-45e5-cf5e-24c387dd04b8"
      },
      "execution_count": null,
      "outputs": [
        {
          "output_type": "stream",
          "name": "stdout",
          "text": [
            "30/30 [==============================] - 0s 3ms/step - loss: 0.0018 - rmse: 0.0421\n"
          ]
        },
        {
          "output_type": "execute_result",
          "data": {
            "text/plain": [
              "0.04209326580166817"
            ]
          },
          "metadata": {},
          "execution_count": 34
        }
      ]
    },
    {
      "cell_type": "code",
      "source": [
        "results = {}\n",
        "kf = KFold(n_splits= 10)\n",
        "\n",
        "for name, model in models.items():\n",
        "    result = np.mean(np.sqrt(-cross_val_score(model, X_train, y_train, scoring = 'neg_mean_squared_error', cv= kf)))\n",
        "    results[name] = result\n",
        "    \n",
        "results['ANN'] = RMSE_ann\n"
      ],
      "metadata": {
        "colab": {
          "base_uri": "https://localhost:8080/"
        },
        "id": "UeuUSEXloutv",
        "outputId": "0928ff78-09ca-4825-8611-921887e26b90"
      },
      "execution_count": null,
      "outputs": [
        {
          "output_type": "stream",
          "name": "stdout",
          "text": [
            "[18:25:57] WARNING: /workspace/src/objective/regression_obj.cu:152: reg:linear is now deprecated in favor of reg:squarederror.\n",
            "[18:25:57] WARNING: /workspace/src/objective/regression_obj.cu:152: reg:linear is now deprecated in favor of reg:squarederror.\n",
            "[18:25:58] WARNING: /workspace/src/objective/regression_obj.cu:152: reg:linear is now deprecated in favor of reg:squarederror.\n",
            "[18:25:58] WARNING: /workspace/src/objective/regression_obj.cu:152: reg:linear is now deprecated in favor of reg:squarederror.\n",
            "[18:25:58] WARNING: /workspace/src/objective/regression_obj.cu:152: reg:linear is now deprecated in favor of reg:squarederror.\n",
            "[18:25:59] WARNING: /workspace/src/objective/regression_obj.cu:152: reg:linear is now deprecated in favor of reg:squarederror.\n",
            "[18:25:59] WARNING: /workspace/src/objective/regression_obj.cu:152: reg:linear is now deprecated in favor of reg:squarederror.\n",
            "[18:25:59] WARNING: /workspace/src/objective/regression_obj.cu:152: reg:linear is now deprecated in favor of reg:squarederror.\n",
            "[18:26:00] WARNING: /workspace/src/objective/regression_obj.cu:152: reg:linear is now deprecated in favor of reg:squarederror.\n",
            "[18:26:00] WARNING: /workspace/src/objective/regression_obj.cu:152: reg:linear is now deprecated in favor of reg:squarederror.\n"
          ]
        }
      ]
    },
    {
      "cell_type": "code",
      "source": [
        "for name, result in results.items():\n",
        "    print(f\"{name} : {round(result, 3)}\")"
      ],
      "metadata": {
        "colab": {
          "base_uri": "https://localhost:8080/"
        },
        "id": "5pBywVDtpEui",
        "outputId": "8e3f2395-855d-4ffb-9ede-5fa1425f964c"
      },
      "execution_count": null,
      "outputs": [
        {
          "output_type": "stream",
          "name": "stdout",
          "text": [
            "ridge : 0.036\n",
            "xgboost : 0.031\n",
            "catboost : 0.03\n",
            "lightgbm : 0.031\n",
            "gradient boosting : 0.031\n",
            "lasso : 0.057\n",
            "random forest : 0.032\n",
            "bayesian ridge : 0.036\n",
            "support vector : 0.042\n",
            "knn : 0.035\n",
            "ANN : 0.042\n"
          ]
        }
      ]
    },
    {
      "cell_type": "code",
      "source": [
        "results_df = pd.DataFrame(results, index=range(0,1)).T.rename(columns={0: 'RMSE'}).sort_values('RMSE', ascending=False)\n",
        "results_df.T"
      ],
      "metadata": {
        "colab": {
          "base_uri": "https://localhost:8080/",
          "height": 125
        },
        "id": "T5deUYWypIo9",
        "outputId": "22a17a2f-5d42-4537-8aaf-d71dbe02ab31"
      },
      "execution_count": null,
      "outputs": [
        {
          "output_type": "execute_result",
          "data": {
            "text/plain": [
              "         lasso       ANN  support vector     ridge  bayesian ridge       knn  \\\n",
              "RMSE  0.057118  0.042093        0.041917  0.035899        0.035898  0.035202   \n",
              "\n",
              "      random forest   xgboost  gradient boosting  lightgbm  catboost  \n",
              "RMSE       0.031638  0.030984             0.0308  0.030673  0.030389  "
            ],
            "text/html": [
              "\n",
              "  <div id=\"df-29729d25-1985-49c0-9bc7-d3b21441255f\">\n",
              "    <div class=\"colab-df-container\">\n",
              "      <div>\n",
              "<style scoped>\n",
              "    .dataframe tbody tr th:only-of-type {\n",
              "        vertical-align: middle;\n",
              "    }\n",
              "\n",
              "    .dataframe tbody tr th {\n",
              "        vertical-align: top;\n",
              "    }\n",
              "\n",
              "    .dataframe thead th {\n",
              "        text-align: right;\n",
              "    }\n",
              "</style>\n",
              "<table border=\"1\" class=\"dataframe\">\n",
              "  <thead>\n",
              "    <tr style=\"text-align: right;\">\n",
              "      <th></th>\n",
              "      <th>lasso</th>\n",
              "      <th>ANN</th>\n",
              "      <th>support vector</th>\n",
              "      <th>ridge</th>\n",
              "      <th>bayesian ridge</th>\n",
              "      <th>knn</th>\n",
              "      <th>random forest</th>\n",
              "      <th>xgboost</th>\n",
              "      <th>gradient boosting</th>\n",
              "      <th>lightgbm</th>\n",
              "      <th>catboost</th>\n",
              "    </tr>\n",
              "  </thead>\n",
              "  <tbody>\n",
              "    <tr>\n",
              "      <th>RMSE</th>\n",
              "      <td>0.057118</td>\n",
              "      <td>0.042093</td>\n",
              "      <td>0.041917</td>\n",
              "      <td>0.035899</td>\n",
              "      <td>0.035898</td>\n",
              "      <td>0.035202</td>\n",
              "      <td>0.031638</td>\n",
              "      <td>0.030984</td>\n",
              "      <td>0.0308</td>\n",
              "      <td>0.030673</td>\n",
              "      <td>0.030389</td>\n",
              "    </tr>\n",
              "  </tbody>\n",
              "</table>\n",
              "</div>\n",
              "      <button class=\"colab-df-convert\" onclick=\"convertToInteractive('df-29729d25-1985-49c0-9bc7-d3b21441255f')\"\n",
              "              title=\"Convert this dataframe to an interactive table.\"\n",
              "              style=\"display:none;\">\n",
              "        \n",
              "  <svg xmlns=\"http://www.w3.org/2000/svg\" height=\"24px\"viewBox=\"0 0 24 24\"\n",
              "       width=\"24px\">\n",
              "    <path d=\"M0 0h24v24H0V0z\" fill=\"none\"/>\n",
              "    <path d=\"M18.56 5.44l.94 2.06.94-2.06 2.06-.94-2.06-.94-.94-2.06-.94 2.06-2.06.94zm-11 1L8.5 8.5l.94-2.06 2.06-.94-2.06-.94L8.5 2.5l-.94 2.06-2.06.94zm10 10l.94 2.06.94-2.06 2.06-.94-2.06-.94-.94-2.06-.94 2.06-2.06.94z\"/><path d=\"M17.41 7.96l-1.37-1.37c-.4-.4-.92-.59-1.43-.59-.52 0-1.04.2-1.43.59L10.3 9.45l-7.72 7.72c-.78.78-.78 2.05 0 2.83L4 21.41c.39.39.9.59 1.41.59.51 0 1.02-.2 1.41-.59l7.78-7.78 2.81-2.81c.8-.78.8-2.07 0-2.86zM5.41 20L4 18.59l7.72-7.72 1.47 1.35L5.41 20z\"/>\n",
              "  </svg>\n",
              "      </button>\n",
              "      \n",
              "  <style>\n",
              "    .colab-df-container {\n",
              "      display:flex;\n",
              "      flex-wrap:wrap;\n",
              "      gap: 12px;\n",
              "    }\n",
              "\n",
              "    .colab-df-convert {\n",
              "      background-color: #E8F0FE;\n",
              "      border: none;\n",
              "      border-radius: 50%;\n",
              "      cursor: pointer;\n",
              "      display: none;\n",
              "      fill: #1967D2;\n",
              "      height: 32px;\n",
              "      padding: 0 0 0 0;\n",
              "      width: 32px;\n",
              "    }\n",
              "\n",
              "    .colab-df-convert:hover {\n",
              "      background-color: #E2EBFA;\n",
              "      box-shadow: 0px 1px 2px rgba(60, 64, 67, 0.3), 0px 1px 3px 1px rgba(60, 64, 67, 0.15);\n",
              "      fill: #174EA6;\n",
              "    }\n",
              "\n",
              "    [theme=dark] .colab-df-convert {\n",
              "      background-color: #3B4455;\n",
              "      fill: #D2E3FC;\n",
              "    }\n",
              "\n",
              "    [theme=dark] .colab-df-convert:hover {\n",
              "      background-color: #434B5C;\n",
              "      box-shadow: 0px 1px 3px 1px rgba(0, 0, 0, 0.15);\n",
              "      filter: drop-shadow(0px 1px 2px rgba(0, 0, 0, 0.3));\n",
              "      fill: #FFFFFF;\n",
              "    }\n",
              "  </style>\n",
              "\n",
              "      <script>\n",
              "        const buttonEl =\n",
              "          document.querySelector('#df-29729d25-1985-49c0-9bc7-d3b21441255f button.colab-df-convert');\n",
              "        buttonEl.style.display =\n",
              "          google.colab.kernel.accessAllowed ? 'block' : 'none';\n",
              "\n",
              "        async function convertToInteractive(key) {\n",
              "          const element = document.querySelector('#df-29729d25-1985-49c0-9bc7-d3b21441255f');\n",
              "          const dataTable =\n",
              "            await google.colab.kernel.invokeFunction('convertToInteractive',\n",
              "                                                     [key], {});\n",
              "          if (!dataTable) return;\n",
              "\n",
              "          const docLinkHtml = 'Like what you see? Visit the ' +\n",
              "            '<a target=\"_blank\" href=https://colab.research.google.com/notebooks/data_table.ipynb>data table notebook</a>'\n",
              "            + ' to learn more about interactive tables.';\n",
              "          element.innerHTML = '';\n",
              "          dataTable['output_type'] = 'display_data';\n",
              "          await google.colab.output.renderOutput(dataTable, element);\n",
              "          const docLink = document.createElement('div');\n",
              "          docLink.innerHTML = docLinkHtml;\n",
              "          element.appendChild(docLink);\n",
              "        }\n",
              "      </script>\n",
              "    </div>\n",
              "  </div>\n",
              "  "
            ]
          },
          "metadata": {},
          "execution_count": 39
        }
      ]
    },
    {
      "cell_type": "code",
      "source": [
        "plt.figure(figsize = (20, 6))\n",
        "srn.barplot(x= results_df.index, y = results_df['RMSE'], palette = 'winter')\n",
        "plt.xlabel('Model')\n",
        "plt.ylabel('RMSE')\n",
        "plt.title('RMSE of different models');"
      ],
      "metadata": {
        "colab": {
          "base_uri": "https://localhost:8080/",
          "height": 389
        },
        "id": "0OypiHLPpP-O",
        "outputId": "6e47170c-9d2c-4666-e4bc-c887b419915e"
      },
      "execution_count": null,
      "outputs": [
        {
          "output_type": "display_data",
          "data": {
            "text/plain": [
              "<Figure size 1440x432 with 1 Axes>"
            ],
            "image/png": "[encoded data removed]"
          },
          "metadata": {
            "needs_background": "light"
          }
        }
      ]
    }
  ]
}